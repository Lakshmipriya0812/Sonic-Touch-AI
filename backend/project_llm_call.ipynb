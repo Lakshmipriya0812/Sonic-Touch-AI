{
  "nbformat": 4,
  "nbformat_minor": 0,
  "metadata": {
    "colab": {
      "provenance": [],
      "gpuType": "T4"
    },
    "kernelspec": {
      "name": "python3",
      "display_name": "Python 3"
    },
    "language_info": {
      "name": "python"
    },
    "accelerator": "GPU",
    "widgets": {
      "application/vnd.jupyter.widget-state+json": {
        "a9ee62d6c16c46edbb05cd728f7eccfa": {
          "model_module": "@jupyter-widgets/controls",
          "model_name": "HBoxModel",
          "model_module_version": "1.5.0",
          "state": {
            "_dom_classes": [],
            "_model_module": "@jupyter-widgets/controls",
            "_model_module_version": "1.5.0",
            "_model_name": "HBoxModel",
            "_view_count": null,
            "_view_module": "@jupyter-widgets/controls",
            "_view_module_version": "1.5.0",
            "_view_name": "HBoxView",
            "box_style": "",
            "children": [
              "IPY_MODEL_16b646a4d6f74770aa23b7d02b458460",
              "IPY_MODEL_ceefe58d274a4cf58f2aa2aa983d2b26",
              "IPY_MODEL_79f95e76599844c7ad4d4fff9cf7850a"
            ],
            "layout": "IPY_MODEL_680cf2ef33be47f9a702df9dd1d9887f"
          }
        },
        "16b646a4d6f74770aa23b7d02b458460": {
          "model_module": "@jupyter-widgets/controls",
          "model_name": "HTMLModel",
          "model_module_version": "1.5.0",
          "state": {
            "_dom_classes": [],
            "_model_module": "@jupyter-widgets/controls",
            "_model_module_version": "1.5.0",
            "_model_name": "HTMLModel",
            "_view_count": null,
            "_view_module": "@jupyter-widgets/controls",
            "_view_module_version": "1.5.0",
            "_view_name": "HTMLView",
            "description": "",
            "description_tooltip": null,
            "layout": "IPY_MODEL_ad97c0e94cb24f59a1465ed474eca96b",
            "placeholder": "​",
            "style": "IPY_MODEL_a9bb3bbf5607485694401fc5bbe61a57",
            "value": "Loading checkpoint shards: 100%"
          }
        },
        "ceefe58d274a4cf58f2aa2aa983d2b26": {
          "model_module": "@jupyter-widgets/controls",
          "model_name": "FloatProgressModel",
          "model_module_version": "1.5.0",
          "state": {
            "_dom_classes": [],
            "_model_module": "@jupyter-widgets/controls",
            "_model_module_version": "1.5.0",
            "_model_name": "FloatProgressModel",
            "_view_count": null,
            "_view_module": "@jupyter-widgets/controls",
            "_view_module_version": "1.5.0",
            "_view_name": "ProgressView",
            "bar_style": "success",
            "description": "",
            "description_tooltip": null,
            "layout": "IPY_MODEL_838795c7518f4eb5a95ee0b9605fd553",
            "max": 2,
            "min": 0,
            "orientation": "horizontal",
            "style": "IPY_MODEL_6d8a0b8e70bf4aa4a2751e5a3f433d6a",
            "value": 2
          }
        },
        "79f95e76599844c7ad4d4fff9cf7850a": {
          "model_module": "@jupyter-widgets/controls",
          "model_name": "HTMLModel",
          "model_module_version": "1.5.0",
          "state": {
            "_dom_classes": [],
            "_model_module": "@jupyter-widgets/controls",
            "_model_module_version": "1.5.0",
            "_model_name": "HTMLModel",
            "_view_count": null,
            "_view_module": "@jupyter-widgets/controls",
            "_view_module_version": "1.5.0",
            "_view_name": "HTMLView",
            "description": "",
            "description_tooltip": null,
            "layout": "IPY_MODEL_ee91823c9b3b44f7b2ffd255d6f6bc96",
            "placeholder": "​",
            "style": "IPY_MODEL_814d3b5c48af4d239ab6468b08ded4f3",
            "value": " 2/2 [00:40&lt;00:00, 18.81s/it]"
          }
        },
        "680cf2ef33be47f9a702df9dd1d9887f": {
          "model_module": "@jupyter-widgets/base",
          "model_name": "LayoutModel",
          "model_module_version": "1.2.0",
          "state": {
            "_model_module": "@jupyter-widgets/base",
            "_model_module_version": "1.2.0",
            "_model_name": "LayoutModel",
            "_view_count": null,
            "_view_module": "@jupyter-widgets/base",
            "_view_module_version": "1.2.0",
            "_view_name": "LayoutView",
            "align_content": null,
            "align_items": null,
            "align_self": null,
            "border": null,
            "bottom": null,
            "display": null,
            "flex": null,
            "flex_flow": null,
            "grid_area": null,
            "grid_auto_columns": null,
            "grid_auto_flow": null,
            "grid_auto_rows": null,
            "grid_column": null,
            "grid_gap": null,
            "grid_row": null,
            "grid_template_areas": null,
            "grid_template_columns": null,
            "grid_template_rows": null,
            "height": null,
            "justify_content": null,
            "justify_items": null,
            "left": null,
            "margin": null,
            "max_height": null,
            "max_width": null,
            "min_height": null,
            "min_width": null,
            "object_fit": null,
            "object_position": null,
            "order": null,
            "overflow": null,
            "overflow_x": null,
            "overflow_y": null,
            "padding": null,
            "right": null,
            "top": null,
            "visibility": null,
            "width": null
          }
        },
        "ad97c0e94cb24f59a1465ed474eca96b": {
          "model_module": "@jupyter-widgets/base",
          "model_name": "LayoutModel",
          "model_module_version": "1.2.0",
          "state": {
            "_model_module": "@jupyter-widgets/base",
            "_model_module_version": "1.2.0",
            "_model_name": "LayoutModel",
            "_view_count": null,
            "_view_module": "@jupyter-widgets/base",
            "_view_module_version": "1.2.0",
            "_view_name": "LayoutView",
            "align_content": null,
            "align_items": null,
            "align_self": null,
            "border": null,
            "bottom": null,
            "display": null,
            "flex": null,
            "flex_flow": null,
            "grid_area": null,
            "grid_auto_columns": null,
            "grid_auto_flow": null,
            "grid_auto_rows": null,
            "grid_column": null,
            "grid_gap": null,
            "grid_row": null,
            "grid_template_areas": null,
            "grid_template_columns": null,
            "grid_template_rows": null,
            "height": null,
            "justify_content": null,
            "justify_items": null,
            "left": null,
            "margin": null,
            "max_height": null,
            "max_width": null,
            "min_height": null,
            "min_width": null,
            "object_fit": null,
            "object_position": null,
            "order": null,
            "overflow": null,
            "overflow_x": null,
            "overflow_y": null,
            "padding": null,
            "right": null,
            "top": null,
            "visibility": null,
            "width": null
          }
        },
        "a9bb3bbf5607485694401fc5bbe61a57": {
          "model_module": "@jupyter-widgets/controls",
          "model_name": "DescriptionStyleModel",
          "model_module_version": "1.5.0",
          "state": {
            "_model_module": "@jupyter-widgets/controls",
            "_model_module_version": "1.5.0",
            "_model_name": "DescriptionStyleModel",
            "_view_count": null,
            "_view_module": "@jupyter-widgets/base",
            "_view_module_version": "1.2.0",
            "_view_name": "StyleView",
            "description_width": ""
          }
        },
        "838795c7518f4eb5a95ee0b9605fd553": {
          "model_module": "@jupyter-widgets/base",
          "model_name": "LayoutModel",
          "model_module_version": "1.2.0",
          "state": {
            "_model_module": "@jupyter-widgets/base",
            "_model_module_version": "1.2.0",
            "_model_name": "LayoutModel",
            "_view_count": null,
            "_view_module": "@jupyter-widgets/base",
            "_view_module_version": "1.2.0",
            "_view_name": "LayoutView",
            "align_content": null,
            "align_items": null,
            "align_self": null,
            "border": null,
            "bottom": null,
            "display": null,
            "flex": null,
            "flex_flow": null,
            "grid_area": null,
            "grid_auto_columns": null,
            "grid_auto_flow": null,
            "grid_auto_rows": null,
            "grid_column": null,
            "grid_gap": null,
            "grid_row": null,
            "grid_template_areas": null,
            "grid_template_columns": null,
            "grid_template_rows": null,
            "height": null,
            "justify_content": null,
            "justify_items": null,
            "left": null,
            "margin": null,
            "max_height": null,
            "max_width": null,
            "min_height": null,
            "min_width": null,
            "object_fit": null,
            "object_position": null,
            "order": null,
            "overflow": null,
            "overflow_x": null,
            "overflow_y": null,
            "padding": null,
            "right": null,
            "top": null,
            "visibility": null,
            "width": null
          }
        },
        "6d8a0b8e70bf4aa4a2751e5a3f433d6a": {
          "model_module": "@jupyter-widgets/controls",
          "model_name": "ProgressStyleModel",
          "model_module_version": "1.5.0",
          "state": {
            "_model_module": "@jupyter-widgets/controls",
            "_model_module_version": "1.5.0",
            "_model_name": "ProgressStyleModel",
            "_view_count": null,
            "_view_module": "@jupyter-widgets/base",
            "_view_module_version": "1.2.0",
            "_view_name": "StyleView",
            "bar_color": null,
            "description_width": ""
          }
        },
        "ee91823c9b3b44f7b2ffd255d6f6bc96": {
          "model_module": "@jupyter-widgets/base",
          "model_name": "LayoutModel",
          "model_module_version": "1.2.0",
          "state": {
            "_model_module": "@jupyter-widgets/base",
            "_model_module_version": "1.2.0",
            "_model_name": "LayoutModel",
            "_view_count": null,
            "_view_module": "@jupyter-widgets/base",
            "_view_module_version": "1.2.0",
            "_view_name": "LayoutView",
            "align_content": null,
            "align_items": null,
            "align_self": null,
            "border": null,
            "bottom": null,
            "display": null,
            "flex": null,
            "flex_flow": null,
            "grid_area": null,
            "grid_auto_columns": null,
            "grid_auto_flow": null,
            "grid_auto_rows": null,
            "grid_column": null,
            "grid_gap": null,
            "grid_row": null,
            "grid_template_areas": null,
            "grid_template_columns": null,
            "grid_template_rows": null,
            "height": null,
            "justify_content": null,
            "justify_items": null,
            "left": null,
            "margin": null,
            "max_height": null,
            "max_width": null,
            "min_height": null,
            "min_width": null,
            "object_fit": null,
            "object_position": null,
            "order": null,
            "overflow": null,
            "overflow_x": null,
            "overflow_y": null,
            "padding": null,
            "right": null,
            "top": null,
            "visibility": null,
            "width": null
          }
        },
        "814d3b5c48af4d239ab6468b08ded4f3": {
          "model_module": "@jupyter-widgets/controls",
          "model_name": "DescriptionStyleModel",
          "model_module_version": "1.5.0",
          "state": {
            "_model_module": "@jupyter-widgets/controls",
            "_model_module_version": "1.5.0",
            "_model_name": "DescriptionStyleModel",
            "_view_count": null,
            "_view_module": "@jupyter-widgets/base",
            "_view_module_version": "1.2.0",
            "_view_name": "StyleView",
            "description_width": ""
          }
        }
      }
    }
  },
  "cells": [
    {
      "cell_type": "code",
      "execution_count": null,
      "metadata": {
        "id": "Dh8_HZb4UApw",
        "colab": {
          "base_uri": "https://localhost:8080/"
        },
        "outputId": "df199cd1-b6f2-4b02-c35c-2b9ca6dc0e13"
      },
      "outputs": [
        {
          "output_type": "stream",
          "name": "stdout",
          "text": [
            "True\n",
            "1\n"
          ]
        }
      ],
      "source": [
        "import torch\n",
        "print(torch.cuda.is_available())\n",
        "print(torch.cuda.device_count())\n"
      ]
    },
    {
      "cell_type": "code",
      "source": [
        "pip install flash-attn --no-build-isolation\n"
      ],
      "metadata": {
        "colab": {
          "base_uri": "https://localhost:8080/"
        },
        "id": "LvO73NXC2c_q",
        "outputId": "43128b03-76d4-4cde-8b82-7a51b3f8bb77",
        "collapsed": true
      },
      "execution_count": 4,
      "outputs": [
        {
          "output_type": "stream",
          "name": "stdout",
          "text": [
            "Collecting flash-attn\n",
            "  Downloading flash_attn-2.7.4.post1.tar.gz (6.0 MB)\n",
            "\u001b[?25l     \u001b[90m━━━━━━━━━━━━━━━━━━━━━━━━━━━━━━━━━━━━━━━━\u001b[0m \u001b[32m0.0/6.0 MB\u001b[0m \u001b[31m?\u001b[0m eta \u001b[36m-:--:--\u001b[0m\r\u001b[2K     \u001b[91m━━━━\u001b[0m\u001b[91m╸\u001b[0m\u001b[90m━━━━━━━━━━━━━━━━━━━━━━━━━━━━━━━━━━━\u001b[0m \u001b[32m0.7/6.0 MB\u001b[0m \u001b[31m22.3 MB/s\u001b[0m eta \u001b[36m0:00:01\u001b[0m\r\u001b[2K     \u001b[91m━━━━━━━━━━━━━━━━━━━━━━━━━━━━━━━━━━━━━━━\u001b[0m\u001b[91m╸\u001b[0m \u001b[32m6.0/6.0 MB\u001b[0m \u001b[31m88.5 MB/s\u001b[0m eta \u001b[36m0:00:01\u001b[0m\r\u001b[2K     \u001b[90m━━━━━━━━━━━━━━━━━━━━━━━━━━━━━━━━━━━━━━━━\u001b[0m \u001b[32m6.0/6.0 MB\u001b[0m \u001b[31m63.4 MB/s\u001b[0m eta \u001b[36m0:00:00\u001b[0m\n",
            "\u001b[?25h  Preparing metadata (setup.py) ... \u001b[?25l\u001b[?25hdone\n",
            "Requirement already satisfied: torch in /usr/local/lib/python3.11/dist-packages (from flash-attn) (2.5.1+cu124)\n",
            "Requirement already satisfied: einops in /usr/local/lib/python3.11/dist-packages (from flash-attn) (0.8.1)\n",
            "Requirement already satisfied: filelock in /usr/local/lib/python3.11/dist-packages (from torch->flash-attn) (3.17.0)\n",
            "Requirement already satisfied: typing-extensions>=4.8.0 in /usr/local/lib/python3.11/dist-packages (from torch->flash-attn) (4.12.2)\n",
            "Requirement already satisfied: networkx in /usr/local/lib/python3.11/dist-packages (from torch->flash-attn) (3.4.2)\n",
            "Requirement already satisfied: jinja2 in /usr/local/lib/python3.11/dist-packages (from torch->flash-attn) (3.1.5)\n",
            "Requirement already satisfied: fsspec in /usr/local/lib/python3.11/dist-packages (from torch->flash-attn) (2024.10.0)\n",
            "Collecting nvidia-cuda-nvrtc-cu12==12.4.127 (from torch->flash-attn)\n",
            "  Downloading nvidia_cuda_nvrtc_cu12-12.4.127-py3-none-manylinux2014_x86_64.whl.metadata (1.5 kB)\n",
            "Collecting nvidia-cuda-runtime-cu12==12.4.127 (from torch->flash-attn)\n",
            "  Downloading nvidia_cuda_runtime_cu12-12.4.127-py3-none-manylinux2014_x86_64.whl.metadata (1.5 kB)\n",
            "Collecting nvidia-cuda-cupti-cu12==12.4.127 (from torch->flash-attn)\n",
            "  Downloading nvidia_cuda_cupti_cu12-12.4.127-py3-none-manylinux2014_x86_64.whl.metadata (1.6 kB)\n",
            "Collecting nvidia-cudnn-cu12==9.1.0.70 (from torch->flash-attn)\n",
            "  Downloading nvidia_cudnn_cu12-9.1.0.70-py3-none-manylinux2014_x86_64.whl.metadata (1.6 kB)\n",
            "Collecting nvidia-cublas-cu12==12.4.5.8 (from torch->flash-attn)\n",
            "  Downloading nvidia_cublas_cu12-12.4.5.8-py3-none-manylinux2014_x86_64.whl.metadata (1.5 kB)\n",
            "Collecting nvidia-cufft-cu12==11.2.1.3 (from torch->flash-attn)\n",
            "  Downloading nvidia_cufft_cu12-11.2.1.3-py3-none-manylinux2014_x86_64.whl.metadata (1.5 kB)\n",
            "Collecting nvidia-curand-cu12==10.3.5.147 (from torch->flash-attn)\n",
            "  Downloading nvidia_curand_cu12-10.3.5.147-py3-none-manylinux2014_x86_64.whl.metadata (1.5 kB)\n",
            "Collecting nvidia-cusolver-cu12==11.6.1.9 (from torch->flash-attn)\n",
            "  Downloading nvidia_cusolver_cu12-11.6.1.9-py3-none-manylinux2014_x86_64.whl.metadata (1.6 kB)\n",
            "Collecting nvidia-cusparse-cu12==12.3.1.170 (from torch->flash-attn)\n",
            "  Downloading nvidia_cusparse_cu12-12.3.1.170-py3-none-manylinux2014_x86_64.whl.metadata (1.6 kB)\n",
            "Requirement already satisfied: nvidia-nccl-cu12==2.21.5 in /usr/local/lib/python3.11/dist-packages (from torch->flash-attn) (2.21.5)\n",
            "Requirement already satisfied: nvidia-nvtx-cu12==12.4.127 in /usr/local/lib/python3.11/dist-packages (from torch->flash-attn) (12.4.127)\n",
            "Collecting nvidia-nvjitlink-cu12==12.4.127 (from torch->flash-attn)\n",
            "  Downloading nvidia_nvjitlink_cu12-12.4.127-py3-none-manylinux2014_x86_64.whl.metadata (1.5 kB)\n",
            "Requirement already satisfied: triton==3.1.0 in /usr/local/lib/python3.11/dist-packages (from torch->flash-attn) (3.1.0)\n",
            "Requirement already satisfied: sympy==1.13.1 in /usr/local/lib/python3.11/dist-packages (from torch->flash-attn) (1.13.1)\n",
            "Requirement already satisfied: mpmath<1.4,>=1.1.0 in /usr/local/lib/python3.11/dist-packages (from sympy==1.13.1->torch->flash-attn) (1.3.0)\n",
            "Requirement already satisfied: MarkupSafe>=2.0 in /usr/local/lib/python3.11/dist-packages (from jinja2->torch->flash-attn) (3.0.2)\n",
            "Downloading nvidia_cublas_cu12-12.4.5.8-py3-none-manylinux2014_x86_64.whl (363.4 MB)\n",
            "\u001b[2K   \u001b[90m━━━━━━━━━━━━━━━━━━━━━━━━━━━━━━━━━━━━━━━━\u001b[0m \u001b[32m363.4/363.4 MB\u001b[0m \u001b[31m4.2 MB/s\u001b[0m eta \u001b[36m0:00:00\u001b[0m\n",
            "\u001b[?25hDownloading nvidia_cuda_cupti_cu12-12.4.127-py3-none-manylinux2014_x86_64.whl (13.8 MB)\n",
            "\u001b[2K   \u001b[90m━━━━━━━━━━━━━━━━━━━━━━━━━━━━━━━━━━━━━━━━\u001b[0m \u001b[32m13.8/13.8 MB\u001b[0m \u001b[31m113.0 MB/s\u001b[0m eta \u001b[36m0:00:00\u001b[0m\n",
            "\u001b[?25hDownloading nvidia_cuda_nvrtc_cu12-12.4.127-py3-none-manylinux2014_x86_64.whl (24.6 MB)\n",
            "\u001b[2K   \u001b[90m━━━━━━━━━━━━━━━━━━━━━━━━━━━━━━━━━━━━━━━━\u001b[0m \u001b[32m24.6/24.6 MB\u001b[0m \u001b[31m85.7 MB/s\u001b[0m eta \u001b[36m0:00:00\u001b[0m\n",
            "\u001b[?25hDownloading nvidia_cuda_runtime_cu12-12.4.127-py3-none-manylinux2014_x86_64.whl (883 kB)\n",
            "\u001b[2K   \u001b[90m━━━━━━━━━━━━━━━━━━━━━━━━━━━━━━━━━━━━━━━━\u001b[0m \u001b[32m883.7/883.7 kB\u001b[0m \u001b[31m56.7 MB/s\u001b[0m eta \u001b[36m0:00:00\u001b[0m\n",
            "\u001b[?25hDownloading nvidia_cudnn_cu12-9.1.0.70-py3-none-manylinux2014_x86_64.whl (664.8 MB)\n",
            "\u001b[2K   \u001b[90m━━━━━━━━━━━━━━━━━━━━━━━━━━━━━━━━━━━━━━━━\u001b[0m \u001b[32m664.8/664.8 MB\u001b[0m \u001b[31m2.9 MB/s\u001b[0m eta \u001b[36m0:00:00\u001b[0m\n",
            "\u001b[?25hDownloading nvidia_cufft_cu12-11.2.1.3-py3-none-manylinux2014_x86_64.whl (211.5 MB)\n",
            "\u001b[2K   \u001b[90m━━━━━━━━━━━━━━━━━━━━━━━━━━━━━━━━━━━━━━━━\u001b[0m \u001b[32m211.5/211.5 MB\u001b[0m \u001b[31m5.9 MB/s\u001b[0m eta \u001b[36m0:00:00\u001b[0m\n",
            "\u001b[?25hDownloading nvidia_curand_cu12-10.3.5.147-py3-none-manylinux2014_x86_64.whl (56.3 MB)\n",
            "\u001b[2K   \u001b[90m━━━━━━━━━━━━━━━━━━━━━━━━━━━━━━━━━━━━━━━━\u001b[0m \u001b[32m56.3/56.3 MB\u001b[0m \u001b[31m14.0 MB/s\u001b[0m eta \u001b[36m0:00:00\u001b[0m\n",
            "\u001b[?25hDownloading nvidia_cusolver_cu12-11.6.1.9-py3-none-manylinux2014_x86_64.whl (127.9 MB)\n",
            "\u001b[2K   \u001b[90m━━━━━━━━━━━━━━━━━━━━━━━━━━━━━━━━━━━━━━━━\u001b[0m \u001b[32m127.9/127.9 MB\u001b[0m \u001b[31m7.8 MB/s\u001b[0m eta \u001b[36m0:00:00\u001b[0m\n",
            "\u001b[?25hDownloading nvidia_cusparse_cu12-12.3.1.170-py3-none-manylinux2014_x86_64.whl (207.5 MB)\n",
            "\u001b[2K   \u001b[90m━━━━━━━━━━━━━━━━━━━━━━━━━━━━━━━━━━━━━━━━\u001b[0m \u001b[32m207.5/207.5 MB\u001b[0m \u001b[31m5.8 MB/s\u001b[0m eta \u001b[36m0:00:00\u001b[0m\n",
            "\u001b[?25hDownloading nvidia_nvjitlink_cu12-12.4.127-py3-none-manylinux2014_x86_64.whl (21.1 MB)\n",
            "\u001b[2K   \u001b[90m━━━━━━━━━━━━━━━━━━━━━━━━━━━━━━━━━━━━━━━━\u001b[0m \u001b[32m21.1/21.1 MB\u001b[0m \u001b[31m37.4 MB/s\u001b[0m eta \u001b[36m0:00:00\u001b[0m\n",
            "\u001b[?25hBuilding wheels for collected packages: flash-attn\n",
            "  Building wheel for flash-attn (setup.py) ... \u001b[?25l\u001b[?25hdone\n",
            "  Created wheel for flash-attn: filename=flash_attn-2.7.4.post1-cp311-cp311-linux_x86_64.whl size=187815463 sha256=d944fc7d2f962bce83fc4708c2fc0c21eaf8255962a0b350ae919362a51b7ef2\n",
            "  Stored in directory: /root/.cache/pip/wheels/3d/88/d8/284b89f56af7d5bf366b10d6b8e251ac8a7c7bf3f04203fb4f\n",
            "Successfully built flash-attn\n",
            "Installing collected packages: nvidia-nvjitlink-cu12, nvidia-curand-cu12, nvidia-cufft-cu12, nvidia-cuda-runtime-cu12, nvidia-cuda-nvrtc-cu12, nvidia-cuda-cupti-cu12, nvidia-cublas-cu12, nvidia-cusparse-cu12, nvidia-cudnn-cu12, nvidia-cusolver-cu12, flash-attn\n",
            "  Attempting uninstall: nvidia-nvjitlink-cu12\n",
            "    Found existing installation: nvidia-nvjitlink-cu12 12.5.82\n",
            "    Uninstalling nvidia-nvjitlink-cu12-12.5.82:\n",
            "      Successfully uninstalled nvidia-nvjitlink-cu12-12.5.82\n",
            "  Attempting uninstall: nvidia-curand-cu12\n",
            "    Found existing installation: nvidia-curand-cu12 10.3.6.82\n",
            "    Uninstalling nvidia-curand-cu12-10.3.6.82:\n",
            "      Successfully uninstalled nvidia-curand-cu12-10.3.6.82\n",
            "  Attempting uninstall: nvidia-cufft-cu12\n",
            "    Found existing installation: nvidia-cufft-cu12 11.2.3.61\n",
            "    Uninstalling nvidia-cufft-cu12-11.2.3.61:\n",
            "      Successfully uninstalled nvidia-cufft-cu12-11.2.3.61\n",
            "  Attempting uninstall: nvidia-cuda-runtime-cu12\n",
            "    Found existing installation: nvidia-cuda-runtime-cu12 12.5.82\n",
            "    Uninstalling nvidia-cuda-runtime-cu12-12.5.82:\n",
            "      Successfully uninstalled nvidia-cuda-runtime-cu12-12.5.82\n",
            "  Attempting uninstall: nvidia-cuda-nvrtc-cu12\n",
            "    Found existing installation: nvidia-cuda-nvrtc-cu12 12.5.82\n",
            "    Uninstalling nvidia-cuda-nvrtc-cu12-12.5.82:\n",
            "      Successfully uninstalled nvidia-cuda-nvrtc-cu12-12.5.82\n",
            "  Attempting uninstall: nvidia-cuda-cupti-cu12\n",
            "    Found existing installation: nvidia-cuda-cupti-cu12 12.5.82\n",
            "    Uninstalling nvidia-cuda-cupti-cu12-12.5.82:\n",
            "      Successfully uninstalled nvidia-cuda-cupti-cu12-12.5.82\n",
            "  Attempting uninstall: nvidia-cublas-cu12\n",
            "    Found existing installation: nvidia-cublas-cu12 12.5.3.2\n",
            "    Uninstalling nvidia-cublas-cu12-12.5.3.2:\n",
            "      Successfully uninstalled nvidia-cublas-cu12-12.5.3.2\n",
            "  Attempting uninstall: nvidia-cusparse-cu12\n",
            "    Found existing installation: nvidia-cusparse-cu12 12.5.1.3\n",
            "    Uninstalling nvidia-cusparse-cu12-12.5.1.3:\n",
            "      Successfully uninstalled nvidia-cusparse-cu12-12.5.1.3\n",
            "  Attempting uninstall: nvidia-cudnn-cu12\n",
            "    Found existing installation: nvidia-cudnn-cu12 9.3.0.75\n",
            "    Uninstalling nvidia-cudnn-cu12-9.3.0.75:\n",
            "      Successfully uninstalled nvidia-cudnn-cu12-9.3.0.75\n",
            "  Attempting uninstall: nvidia-cusolver-cu12\n",
            "    Found existing installation: nvidia-cusolver-cu12 11.6.3.83\n",
            "    Uninstalling nvidia-cusolver-cu12-11.6.3.83:\n",
            "      Successfully uninstalled nvidia-cusolver-cu12-11.6.3.83\n",
            "Successfully installed flash-attn-2.7.4.post1 nvidia-cublas-cu12-12.4.5.8 nvidia-cuda-cupti-cu12-12.4.127 nvidia-cuda-nvrtc-cu12-12.4.127 nvidia-cuda-runtime-cu12-12.4.127 nvidia-cudnn-cu12-9.1.0.70 nvidia-cufft-cu12-11.2.1.3 nvidia-curand-cu12-10.3.5.147 nvidia-cusolver-cu12-11.6.1.9 nvidia-cusparse-cu12-12.3.1.170 nvidia-nvjitlink-cu12-12.4.127\n"
          ]
        }
      ]
    },
    {
      "cell_type": "code",
      "source": [
        "!pip install transformers accelerate\n"
      ],
      "metadata": {
        "colab": {
          "base_uri": "https://localhost:8080/"
        },
        "collapsed": true,
        "id": "htDf55SbVkdP",
        "outputId": "797ccc94-c79f-44fe-ca85-da3bd57e1970"
      },
      "execution_count": 5,
      "outputs": [
        {
          "output_type": "stream",
          "name": "stdout",
          "text": [
            "Requirement already satisfied: transformers in /usr/local/lib/python3.11/dist-packages (4.48.3)\n",
            "Requirement already satisfied: accelerate in /usr/local/lib/python3.11/dist-packages (1.3.0)\n",
            "Requirement already satisfied: filelock in /usr/local/lib/python3.11/dist-packages (from transformers) (3.17.0)\n",
            "Requirement already satisfied: huggingface-hub<1.0,>=0.24.0 in /usr/local/lib/python3.11/dist-packages (from transformers) (0.28.1)\n",
            "Requirement already satisfied: numpy>=1.17 in /usr/local/lib/python3.11/dist-packages (from transformers) (1.26.4)\n",
            "Requirement already satisfied: packaging>=20.0 in /usr/local/lib/python3.11/dist-packages (from transformers) (24.2)\n",
            "Requirement already satisfied: pyyaml>=5.1 in /usr/local/lib/python3.11/dist-packages (from transformers) (6.0.2)\n",
            "Requirement already satisfied: regex!=2019.12.17 in /usr/local/lib/python3.11/dist-packages (from transformers) (2024.11.6)\n",
            "Requirement already satisfied: requests in /usr/local/lib/python3.11/dist-packages (from transformers) (2.32.3)\n",
            "Requirement already satisfied: tokenizers<0.22,>=0.21 in /usr/local/lib/python3.11/dist-packages (from transformers) (0.21.0)\n",
            "Requirement already satisfied: safetensors>=0.4.1 in /usr/local/lib/python3.11/dist-packages (from transformers) (0.5.3)\n",
            "Requirement already satisfied: tqdm>=4.27 in /usr/local/lib/python3.11/dist-packages (from transformers) (4.67.1)\n",
            "Requirement already satisfied: psutil in /usr/local/lib/python3.11/dist-packages (from accelerate) (5.9.5)\n",
            "Requirement already satisfied: torch>=2.0.0 in /usr/local/lib/python3.11/dist-packages (from accelerate) (2.5.1+cu124)\n",
            "Requirement already satisfied: fsspec>=2023.5.0 in /usr/local/lib/python3.11/dist-packages (from huggingface-hub<1.0,>=0.24.0->transformers) (2024.10.0)\n",
            "Requirement already satisfied: typing-extensions>=3.7.4.3 in /usr/local/lib/python3.11/dist-packages (from huggingface-hub<1.0,>=0.24.0->transformers) (4.12.2)\n",
            "Requirement already satisfied: networkx in /usr/local/lib/python3.11/dist-packages (from torch>=2.0.0->accelerate) (3.4.2)\n",
            "Requirement already satisfied: jinja2 in /usr/local/lib/python3.11/dist-packages (from torch>=2.0.0->accelerate) (3.1.5)\n",
            "Requirement already satisfied: nvidia-cuda-nvrtc-cu12==12.4.127 in /usr/local/lib/python3.11/dist-packages (from torch>=2.0.0->accelerate) (12.4.127)\n",
            "Requirement already satisfied: nvidia-cuda-runtime-cu12==12.4.127 in /usr/local/lib/python3.11/dist-packages (from torch>=2.0.0->accelerate) (12.4.127)\n",
            "Requirement already satisfied: nvidia-cuda-cupti-cu12==12.4.127 in /usr/local/lib/python3.11/dist-packages (from torch>=2.0.0->accelerate) (12.4.127)\n",
            "Requirement already satisfied: nvidia-cudnn-cu12==9.1.0.70 in /usr/local/lib/python3.11/dist-packages (from torch>=2.0.0->accelerate) (9.1.0.70)\n",
            "Requirement already satisfied: nvidia-cublas-cu12==12.4.5.8 in /usr/local/lib/python3.11/dist-packages (from torch>=2.0.0->accelerate) (12.4.5.8)\n",
            "Requirement already satisfied: nvidia-cufft-cu12==11.2.1.3 in /usr/local/lib/python3.11/dist-packages (from torch>=2.0.0->accelerate) (11.2.1.3)\n",
            "Requirement already satisfied: nvidia-curand-cu12==10.3.5.147 in /usr/local/lib/python3.11/dist-packages (from torch>=2.0.0->accelerate) (10.3.5.147)\n",
            "Requirement already satisfied: nvidia-cusolver-cu12==11.6.1.9 in /usr/local/lib/python3.11/dist-packages (from torch>=2.0.0->accelerate) (11.6.1.9)\n",
            "Requirement already satisfied: nvidia-cusparse-cu12==12.3.1.170 in /usr/local/lib/python3.11/dist-packages (from torch>=2.0.0->accelerate) (12.3.1.170)\n",
            "Requirement already satisfied: nvidia-nccl-cu12==2.21.5 in /usr/local/lib/python3.11/dist-packages (from torch>=2.0.0->accelerate) (2.21.5)\n",
            "Requirement already satisfied: nvidia-nvtx-cu12==12.4.127 in /usr/local/lib/python3.11/dist-packages (from torch>=2.0.0->accelerate) (12.4.127)\n",
            "Requirement already satisfied: nvidia-nvjitlink-cu12==12.4.127 in /usr/local/lib/python3.11/dist-packages (from torch>=2.0.0->accelerate) (12.4.127)\n",
            "Requirement already satisfied: triton==3.1.0 in /usr/local/lib/python3.11/dist-packages (from torch>=2.0.0->accelerate) (3.1.0)\n",
            "Requirement already satisfied: sympy==1.13.1 in /usr/local/lib/python3.11/dist-packages (from torch>=2.0.0->accelerate) (1.13.1)\n",
            "Requirement already satisfied: mpmath<1.4,>=1.1.0 in /usr/local/lib/python3.11/dist-packages (from sympy==1.13.1->torch>=2.0.0->accelerate) (1.3.0)\n",
            "Requirement already satisfied: charset-normalizer<4,>=2 in /usr/local/lib/python3.11/dist-packages (from requests->transformers) (3.4.1)\n",
            "Requirement already satisfied: idna<4,>=2.5 in /usr/local/lib/python3.11/dist-packages (from requests->transformers) (3.10)\n",
            "Requirement already satisfied: urllib3<3,>=1.21.1 in /usr/local/lib/python3.11/dist-packages (from requests->transformers) (2.3.0)\n",
            "Requirement already satisfied: certifi>=2017.4.17 in /usr/local/lib/python3.11/dist-packages (from requests->transformers) (2025.1.31)\n",
            "Requirement already satisfied: MarkupSafe>=2.0 in /usr/local/lib/python3.11/dist-packages (from jinja2->torch>=2.0.0->accelerate) (3.0.2)\n"
          ]
        }
      ]
    },
    {
      "cell_type": "code",
      "source": [
        "! pip install langchain flask_session"
      ],
      "metadata": {
        "colab": {
          "base_uri": "https://localhost:8080/"
        },
        "collapsed": true,
        "id": "b4Vov5ECWJ32",
        "outputId": "e58f0804-6979-4134-d020-484979233a42"
      },
      "execution_count": 6,
      "outputs": [
        {
          "output_type": "stream",
          "name": "stdout",
          "text": [
            "Requirement already satisfied: langchain in /usr/local/lib/python3.11/dist-packages (0.3.19)\n",
            "Collecting flask_session\n",
            "  Downloading flask_session-0.8.0-py3-none-any.whl.metadata (5.2 kB)\n",
            "Requirement already satisfied: langchain-core<1.0.0,>=0.3.35 in /usr/local/lib/python3.11/dist-packages (from langchain) (0.3.40)\n",
            "Requirement already satisfied: langchain-text-splitters<1.0.0,>=0.3.6 in /usr/local/lib/python3.11/dist-packages (from langchain) (0.3.6)\n",
            "Requirement already satisfied: langsmith<0.4,>=0.1.17 in /usr/local/lib/python3.11/dist-packages (from langchain) (0.3.11)\n",
            "Requirement already satisfied: pydantic<3.0.0,>=2.7.4 in /usr/local/lib/python3.11/dist-packages (from langchain) (2.10.6)\n",
            "Requirement already satisfied: SQLAlchemy<3,>=1.4 in /usr/local/lib/python3.11/dist-packages (from langchain) (2.0.38)\n",
            "Requirement already satisfied: requests<3,>=2 in /usr/local/lib/python3.11/dist-packages (from langchain) (2.32.3)\n",
            "Requirement already satisfied: PyYAML>=5.3 in /usr/local/lib/python3.11/dist-packages (from langchain) (6.0.2)\n",
            "Requirement already satisfied: aiohttp<4.0.0,>=3.8.3 in /usr/local/lib/python3.11/dist-packages (from langchain) (3.11.13)\n",
            "Requirement already satisfied: tenacity!=8.4.0,<10,>=8.1.0 in /usr/local/lib/python3.11/dist-packages (from langchain) (9.0.0)\n",
            "Requirement already satisfied: numpy<2,>=1.26.4 in /usr/local/lib/python3.11/dist-packages (from langchain) (1.26.4)\n",
            "Requirement already satisfied: flask>=2.2 in /usr/local/lib/python3.11/dist-packages (from flask_session) (3.1.0)\n",
            "Collecting msgspec>=0.18.6 (from flask_session)\n",
            "  Downloading msgspec-0.19.0-cp311-cp311-manylinux_2_17_x86_64.manylinux2014_x86_64.whl.metadata (6.9 kB)\n",
            "Collecting cachelib (from flask_session)\n",
            "  Downloading cachelib-0.13.0-py3-none-any.whl.metadata (2.0 kB)\n",
            "Requirement already satisfied: aiohappyeyeballs>=2.3.0 in /usr/local/lib/python3.11/dist-packages (from aiohttp<4.0.0,>=3.8.3->langchain) (2.4.6)\n",
            "Requirement already satisfied: aiosignal>=1.1.2 in /usr/local/lib/python3.11/dist-packages (from aiohttp<4.0.0,>=3.8.3->langchain) (1.3.2)\n",
            "Requirement already satisfied: attrs>=17.3.0 in /usr/local/lib/python3.11/dist-packages (from aiohttp<4.0.0,>=3.8.3->langchain) (25.1.0)\n",
            "Requirement already satisfied: frozenlist>=1.1.1 in /usr/local/lib/python3.11/dist-packages (from aiohttp<4.0.0,>=3.8.3->langchain) (1.5.0)\n",
            "Requirement already satisfied: multidict<7.0,>=4.5 in /usr/local/lib/python3.11/dist-packages (from aiohttp<4.0.0,>=3.8.3->langchain) (6.1.0)\n",
            "Requirement already satisfied: propcache>=0.2.0 in /usr/local/lib/python3.11/dist-packages (from aiohttp<4.0.0,>=3.8.3->langchain) (0.3.0)\n",
            "Requirement already satisfied: yarl<2.0,>=1.17.0 in /usr/local/lib/python3.11/dist-packages (from aiohttp<4.0.0,>=3.8.3->langchain) (1.18.3)\n",
            "Requirement already satisfied: Werkzeug>=3.1 in /usr/local/lib/python3.11/dist-packages (from flask>=2.2->flask_session) (3.1.3)\n",
            "Requirement already satisfied: Jinja2>=3.1.2 in /usr/local/lib/python3.11/dist-packages (from flask>=2.2->flask_session) (3.1.5)\n",
            "Requirement already satisfied: itsdangerous>=2.2 in /usr/local/lib/python3.11/dist-packages (from flask>=2.2->flask_session) (2.2.0)\n",
            "Requirement already satisfied: click>=8.1.3 in /usr/local/lib/python3.11/dist-packages (from flask>=2.2->flask_session) (8.1.8)\n",
            "Requirement already satisfied: blinker>=1.9 in /usr/local/lib/python3.11/dist-packages (from flask>=2.2->flask_session) (1.9.0)\n",
            "Requirement already satisfied: jsonpatch<2.0,>=1.33 in /usr/local/lib/python3.11/dist-packages (from langchain-core<1.0.0,>=0.3.35->langchain) (1.33)\n",
            "Requirement already satisfied: packaging<25,>=23.2 in /usr/local/lib/python3.11/dist-packages (from langchain-core<1.0.0,>=0.3.35->langchain) (24.2)\n",
            "Requirement already satisfied: typing-extensions>=4.7 in /usr/local/lib/python3.11/dist-packages (from langchain-core<1.0.0,>=0.3.35->langchain) (4.12.2)\n",
            "Requirement already satisfied: httpx<1,>=0.23.0 in /usr/local/lib/python3.11/dist-packages (from langsmith<0.4,>=0.1.17->langchain) (0.28.1)\n",
            "Requirement already satisfied: orjson<4.0.0,>=3.9.14 in /usr/local/lib/python3.11/dist-packages (from langsmith<0.4,>=0.1.17->langchain) (3.10.15)\n",
            "Requirement already satisfied: requests-toolbelt<2.0.0,>=1.0.0 in /usr/local/lib/python3.11/dist-packages (from langsmith<0.4,>=0.1.17->langchain) (1.0.0)\n",
            "Requirement already satisfied: zstandard<0.24.0,>=0.23.0 in /usr/local/lib/python3.11/dist-packages (from langsmith<0.4,>=0.1.17->langchain) (0.23.0)\n",
            "Requirement already satisfied: annotated-types>=0.6.0 in /usr/local/lib/python3.11/dist-packages (from pydantic<3.0.0,>=2.7.4->langchain) (0.7.0)\n",
            "Requirement already satisfied: pydantic-core==2.27.2 in /usr/local/lib/python3.11/dist-packages (from pydantic<3.0.0,>=2.7.4->langchain) (2.27.2)\n",
            "Requirement already satisfied: charset-normalizer<4,>=2 in /usr/local/lib/python3.11/dist-packages (from requests<3,>=2->langchain) (3.4.1)\n",
            "Requirement already satisfied: idna<4,>=2.5 in /usr/local/lib/python3.11/dist-packages (from requests<3,>=2->langchain) (3.10)\n",
            "Requirement already satisfied: urllib3<3,>=1.21.1 in /usr/local/lib/python3.11/dist-packages (from requests<3,>=2->langchain) (2.3.0)\n",
            "Requirement already satisfied: certifi>=2017.4.17 in /usr/local/lib/python3.11/dist-packages (from requests<3,>=2->langchain) (2025.1.31)\n",
            "Requirement already satisfied: greenlet!=0.4.17 in /usr/local/lib/python3.11/dist-packages (from SQLAlchemy<3,>=1.4->langchain) (3.1.1)\n",
            "Requirement already satisfied: anyio in /usr/local/lib/python3.11/dist-packages (from httpx<1,>=0.23.0->langsmith<0.4,>=0.1.17->langchain) (3.7.1)\n",
            "Requirement already satisfied: httpcore==1.* in /usr/local/lib/python3.11/dist-packages (from httpx<1,>=0.23.0->langsmith<0.4,>=0.1.17->langchain) (1.0.7)\n",
            "Requirement already satisfied: h11<0.15,>=0.13 in /usr/local/lib/python3.11/dist-packages (from httpcore==1.*->httpx<1,>=0.23.0->langsmith<0.4,>=0.1.17->langchain) (0.14.0)\n",
            "Requirement already satisfied: MarkupSafe>=2.0 in /usr/local/lib/python3.11/dist-packages (from Jinja2>=3.1.2->flask>=2.2->flask_session) (3.0.2)\n",
            "Requirement already satisfied: jsonpointer>=1.9 in /usr/local/lib/python3.11/dist-packages (from jsonpatch<2.0,>=1.33->langchain-core<1.0.0,>=0.3.35->langchain) (3.0.0)\n",
            "Requirement already satisfied: sniffio>=1.1 in /usr/local/lib/python3.11/dist-packages (from anyio->httpx<1,>=0.23.0->langsmith<0.4,>=0.1.17->langchain) (1.3.1)\n",
            "Downloading flask_session-0.8.0-py3-none-any.whl (24 kB)\n",
            "Downloading msgspec-0.19.0-cp311-cp311-manylinux_2_17_x86_64.manylinux2014_x86_64.whl (210 kB)\n",
            "\u001b[2K   \u001b[90m━━━━━━━━━━━━━━━━━━━━━━━━━━━━━━━━━━━━━━━━\u001b[0m \u001b[32m210.7/210.7 kB\u001b[0m \u001b[31m10.8 MB/s\u001b[0m eta \u001b[36m0:00:00\u001b[0m\n",
            "\u001b[?25hDownloading cachelib-0.13.0-py3-none-any.whl (20 kB)\n",
            "Installing collected packages: msgspec, cachelib, flask_session\n",
            "Successfully installed cachelib-0.13.0 flask_session-0.8.0 msgspec-0.19.0\n"
          ]
        }
      ]
    },
    {
      "cell_type": "code",
      "source": [
        "from google.colab import drive\n",
        "drive.mount('/content/drive')"
      ],
      "metadata": {
        "colab": {
          "base_uri": "https://localhost:8080/"
        },
        "id": "ZxunkRpNWRZt",
        "outputId": "65bb804c-3baf-4222-a555-2af52443f52a"
      },
      "execution_count": 2,
      "outputs": [
        {
          "output_type": "stream",
          "name": "stdout",
          "text": [
            "Mounted at /content/drive\n"
          ]
        }
      ]
    },
    {
      "cell_type": "code",
      "source": [
        "!ls /content/drive/My\\ Drive/model/\n"
      ],
      "metadata": {
        "id": "tnp-gtcIZIO3",
        "colab": {
          "base_uri": "https://localhost:8080/"
        },
        "outputId": "9a9b9811-6fa3-472b-d118-380d3d9069c0"
      },
      "execution_count": 1,
      "outputs": [
        {
          "output_type": "stream",
          "name": "stdout",
          "text": [
            "Coats.csv  Phi3\n"
          ]
        }
      ]
    },
    {
      "cell_type": "code",
      "source": [
        "!pip install flask flask-session pyngrok"
      ],
      "metadata": {
        "collapsed": true,
        "colab": {
          "base_uri": "https://localhost:8080/"
        },
        "id": "pT6lObYTmqps",
        "outputId": "96a703d7-e557-49fc-d14f-8c6e2336a12f"
      },
      "execution_count": 3,
      "outputs": [
        {
          "output_type": "stream",
          "name": "stdout",
          "text": [
            "Requirement already satisfied: flask in /usr/local/lib/python3.11/dist-packages (3.1.0)\n",
            "Collecting flask-session\n",
            "  Downloading flask_session-0.8.0-py3-none-any.whl.metadata (5.2 kB)\n",
            "Collecting pyngrok\n",
            "  Downloading pyngrok-7.2.3-py3-none-any.whl.metadata (8.7 kB)\n",
            "Requirement already satisfied: Werkzeug>=3.1 in /usr/local/lib/python3.11/dist-packages (from flask) (3.1.3)\n",
            "Requirement already satisfied: Jinja2>=3.1.2 in /usr/local/lib/python3.11/dist-packages (from flask) (3.1.5)\n",
            "Requirement already satisfied: itsdangerous>=2.2 in /usr/local/lib/python3.11/dist-packages (from flask) (2.2.0)\n",
            "Requirement already satisfied: click>=8.1.3 in /usr/local/lib/python3.11/dist-packages (from flask) (8.1.8)\n",
            "Requirement already satisfied: blinker>=1.9 in /usr/local/lib/python3.11/dist-packages (from flask) (1.9.0)\n",
            "Collecting msgspec>=0.18.6 (from flask-session)\n",
            "  Downloading msgspec-0.19.0-cp311-cp311-manylinux_2_17_x86_64.manylinux2014_x86_64.whl.metadata (6.9 kB)\n",
            "Collecting cachelib (from flask-session)\n",
            "  Downloading cachelib-0.13.0-py3-none-any.whl.metadata (2.0 kB)\n",
            "Requirement already satisfied: PyYAML>=5.1 in /usr/local/lib/python3.11/dist-packages (from pyngrok) (6.0.2)\n",
            "Requirement already satisfied: MarkupSafe>=2.0 in /usr/local/lib/python3.11/dist-packages (from Jinja2>=3.1.2->flask) (3.0.2)\n",
            "Downloading flask_session-0.8.0-py3-none-any.whl (24 kB)\n",
            "Downloading pyngrok-7.2.3-py3-none-any.whl (23 kB)\n",
            "Downloading msgspec-0.19.0-cp311-cp311-manylinux_2_17_x86_64.manylinux2014_x86_64.whl (210 kB)\n",
            "\u001b[2K   \u001b[90m━━━━━━━━━━━━━━━━━━━━━━━━━━━━━━━━━━━━━━━━\u001b[0m \u001b[32m210.7/210.7 kB\u001b[0m \u001b[31m11.1 MB/s\u001b[0m eta \u001b[36m0:00:00\u001b[0m\n",
            "\u001b[?25hDownloading cachelib-0.13.0-py3-none-any.whl (20 kB)\n",
            "Installing collected packages: pyngrok, msgspec, cachelib, flask-session\n",
            "Successfully installed cachelib-0.13.0 flask-session-0.8.0 msgspec-0.19.0 pyngrok-7.2.3\n"
          ]
        }
      ]
    },
    {
      "cell_type": "code",
      "source": [
        "!pip uninstall -y bitsandbytes\n",
        "!rm -rf /usr/local/lib/python3.*/dist-packages/bitsandbytes*\n",
        "!pip install -U bitsandbytes flash-attn --no-build-isolation\n",
        "import os\n",
        "os.kill(os.getpid(), 9)  # 彻底重启 Colab\n"
      ],
      "metadata": {
        "colab": {
          "base_uri": "https://localhost:8080/"
        },
        "collapsed": true,
        "id": "FTNOq-0sIx3x",
        "outputId": "fc009ab3-261e-46a9-a6b5-82798a5a983a"
      },
      "execution_count": null,
      "outputs": [
        {
          "output_type": "stream",
          "name": "stdout",
          "text": [
            "\u001b[33mWARNING: Skipping bitsandbytes as it is not installed.\u001b[0m\u001b[33m\n",
            "\u001b[0mCollecting bitsandbytes\n",
            "  Downloading bitsandbytes-0.45.3-py3-none-manylinux_2_24_x86_64.whl.metadata (5.0 kB)\n",
            "Collecting flash-attn\n",
            "  Downloading flash_attn-2.7.4.post1.tar.gz (6.0 MB)\n",
            "\u001b[2K     \u001b[90m━━━━━━━━━━━━━━━━━━━━━━━━━━━━━━━━━━━━━━━━\u001b[0m \u001b[32m6.0/6.0 MB\u001b[0m \u001b[31m62.9 MB/s\u001b[0m eta \u001b[36m0:00:00\u001b[0m\n",
            "\u001b[?25h  Preparing metadata (setup.py) ... \u001b[?25l\u001b[?25hdone\n",
            "Requirement already satisfied: torch<3,>=2.0 in /usr/local/lib/python3.11/dist-packages (from bitsandbytes) (2.5.1+cu124)\n",
            "Requirement already satisfied: numpy>=1.17 in /usr/local/lib/python3.11/dist-packages (from bitsandbytes) (1.26.4)\n",
            "Requirement already satisfied: einops in /usr/local/lib/python3.11/dist-packages (from flash-attn) (0.8.1)\n",
            "Requirement already satisfied: filelock in /usr/local/lib/python3.11/dist-packages (from torch<3,>=2.0->bitsandbytes) (3.17.0)\n",
            "Requirement already satisfied: typing-extensions>=4.8.0 in /usr/local/lib/python3.11/dist-packages (from torch<3,>=2.0->bitsandbytes) (4.12.2)\n",
            "Requirement already satisfied: networkx in /usr/local/lib/python3.11/dist-packages (from torch<3,>=2.0->bitsandbytes) (3.4.2)\n",
            "Requirement already satisfied: jinja2 in /usr/local/lib/python3.11/dist-packages (from torch<3,>=2.0->bitsandbytes) (3.1.5)\n",
            "Requirement already satisfied: fsspec in /usr/local/lib/python3.11/dist-packages (from torch<3,>=2.0->bitsandbytes) (2024.10.0)\n",
            "Collecting nvidia-cuda-nvrtc-cu12==12.4.127 (from torch<3,>=2.0->bitsandbytes)\n",
            "  Downloading nvidia_cuda_nvrtc_cu12-12.4.127-py3-none-manylinux2014_x86_64.whl.metadata (1.5 kB)\n",
            "Collecting nvidia-cuda-runtime-cu12==12.4.127 (from torch<3,>=2.0->bitsandbytes)\n",
            "  Downloading nvidia_cuda_runtime_cu12-12.4.127-py3-none-manylinux2014_x86_64.whl.metadata (1.5 kB)\n",
            "Collecting nvidia-cuda-cupti-cu12==12.4.127 (from torch<3,>=2.0->bitsandbytes)\n",
            "  Downloading nvidia_cuda_cupti_cu12-12.4.127-py3-none-manylinux2014_x86_64.whl.metadata (1.6 kB)\n",
            "Collecting nvidia-cudnn-cu12==9.1.0.70 (from torch<3,>=2.0->bitsandbytes)\n",
            "  Downloading nvidia_cudnn_cu12-9.1.0.70-py3-none-manylinux2014_x86_64.whl.metadata (1.6 kB)\n",
            "Collecting nvidia-cublas-cu12==12.4.5.8 (from torch<3,>=2.0->bitsandbytes)\n",
            "  Downloading nvidia_cublas_cu12-12.4.5.8-py3-none-manylinux2014_x86_64.whl.metadata (1.5 kB)\n",
            "Collecting nvidia-cufft-cu12==11.2.1.3 (from torch<3,>=2.0->bitsandbytes)\n",
            "  Downloading nvidia_cufft_cu12-11.2.1.3-py3-none-manylinux2014_x86_64.whl.metadata (1.5 kB)\n",
            "Collecting nvidia-curand-cu12==10.3.5.147 (from torch<3,>=2.0->bitsandbytes)\n",
            "  Downloading nvidia_curand_cu12-10.3.5.147-py3-none-manylinux2014_x86_64.whl.metadata (1.5 kB)\n",
            "Collecting nvidia-cusolver-cu12==11.6.1.9 (from torch<3,>=2.0->bitsandbytes)\n",
            "  Downloading nvidia_cusolver_cu12-11.6.1.9-py3-none-manylinux2014_x86_64.whl.metadata (1.6 kB)\n",
            "Collecting nvidia-cusparse-cu12==12.3.1.170 (from torch<3,>=2.0->bitsandbytes)\n",
            "  Downloading nvidia_cusparse_cu12-12.3.1.170-py3-none-manylinux2014_x86_64.whl.metadata (1.6 kB)\n",
            "Requirement already satisfied: nvidia-nccl-cu12==2.21.5 in /usr/local/lib/python3.11/dist-packages (from torch<3,>=2.0->bitsandbytes) (2.21.5)\n",
            "Requirement already satisfied: nvidia-nvtx-cu12==12.4.127 in /usr/local/lib/python3.11/dist-packages (from torch<3,>=2.0->bitsandbytes) (12.4.127)\n",
            "Collecting nvidia-nvjitlink-cu12==12.4.127 (from torch<3,>=2.0->bitsandbytes)\n",
            "  Downloading nvidia_nvjitlink_cu12-12.4.127-py3-none-manylinux2014_x86_64.whl.metadata (1.5 kB)\n",
            "Requirement already satisfied: triton==3.1.0 in /usr/local/lib/python3.11/dist-packages (from torch<3,>=2.0->bitsandbytes) (3.1.0)\n",
            "Requirement already satisfied: sympy==1.13.1 in /usr/local/lib/python3.11/dist-packages (from torch<3,>=2.0->bitsandbytes) (1.13.1)\n",
            "Requirement already satisfied: mpmath<1.4,>=1.1.0 in /usr/local/lib/python3.11/dist-packages (from sympy==1.13.1->torch<3,>=2.0->bitsandbytes) (1.3.0)\n",
            "Requirement already satisfied: MarkupSafe>=2.0 in /usr/local/lib/python3.11/dist-packages (from jinja2->torch<3,>=2.0->bitsandbytes) (3.0.2)\n",
            "Downloading bitsandbytes-0.45.3-py3-none-manylinux_2_24_x86_64.whl (76.1 MB)\n",
            "\u001b[2K   \u001b[90m━━━━━━━━━━━━━━━━━━━━━━━━━━━━━━━━━━━━━━━━\u001b[0m \u001b[32m76.1/76.1 MB\u001b[0m \u001b[31m11.2 MB/s\u001b[0m eta \u001b[36m0:00:00\u001b[0m\n",
            "\u001b[?25hDownloading nvidia_cublas_cu12-12.4.5.8-py3-none-manylinux2014_x86_64.whl (363.4 MB)\n",
            "\u001b[2K   \u001b[90m━━━━━━━━━━━━━━━━━━━━━━━━━━━━━━━━━━━━━━━━\u001b[0m \u001b[32m363.4/363.4 MB\u001b[0m \u001b[31m4.5 MB/s\u001b[0m eta \u001b[36m0:00:00\u001b[0m\n",
            "\u001b[?25hDownloading nvidia_cuda_cupti_cu12-12.4.127-py3-none-manylinux2014_x86_64.whl (13.8 MB)\n",
            "\u001b[2K   \u001b[90m━━━━━━━━━━━━━━━━━━━━━━━━━━━━━━━━━━━━━━━━\u001b[0m \u001b[32m13.8/13.8 MB\u001b[0m \u001b[31m101.6 MB/s\u001b[0m eta \u001b[36m0:00:00\u001b[0m\n",
            "\u001b[?25hDownloading nvidia_cuda_nvrtc_cu12-12.4.127-py3-none-manylinux2014_x86_64.whl (24.6 MB)\n",
            "\u001b[2K   \u001b[90m━━━━━━━━━━━━━━━━━━━━━━━━━━━━━━━━━━━━━━━━\u001b[0m \u001b[32m24.6/24.6 MB\u001b[0m \u001b[31m82.2 MB/s\u001b[0m eta \u001b[36m0:00:00\u001b[0m\n",
            "\u001b[?25hDownloading nvidia_cuda_runtime_cu12-12.4.127-py3-none-manylinux2014_x86_64.whl (883 kB)\n",
            "\u001b[2K   \u001b[90m━━━━━━━━━━━━━━━━━━━━━━━━━━━━━━━━━━━━━━━━\u001b[0m \u001b[32m883.7/883.7 kB\u001b[0m \u001b[31m48.4 MB/s\u001b[0m eta \u001b[36m0:00:00\u001b[0m\n",
            "\u001b[?25hDownloading nvidia_cudnn_cu12-9.1.0.70-py3-none-manylinux2014_x86_64.whl (664.8 MB)\n",
            "\u001b[2K   \u001b[90m━━━━━━━━━━━━━━━━━━━━━━━━━━━━━━━━━━━━━━━━\u001b[0m \u001b[32m664.8/664.8 MB\u001b[0m \u001b[31m1.3 MB/s\u001b[0m eta \u001b[36m0:00:00\u001b[0m\n",
            "\u001b[?25hDownloading nvidia_cufft_cu12-11.2.1.3-py3-none-manylinux2014_x86_64.whl (211.5 MB)\n",
            "\u001b[2K   \u001b[90m━━━━━━━━━━━━━━━━━━━━━━━━━━━━━━━━━━━━━━━━\u001b[0m \u001b[32m211.5/211.5 MB\u001b[0m \u001b[31m5.7 MB/s\u001b[0m eta \u001b[36m0:00:00\u001b[0m\n",
            "\u001b[?25hDownloading nvidia_curand_cu12-10.3.5.147-py3-none-manylinux2014_x86_64.whl (56.3 MB)\n",
            "\u001b[2K   \u001b[90m━━━━━━━━━━━━━━━━━━━━━━━━━━━━━━━━━━━━━━━━\u001b[0m \u001b[32m56.3/56.3 MB\u001b[0m \u001b[31m14.7 MB/s\u001b[0m eta \u001b[36m0:00:00\u001b[0m\n",
            "\u001b[?25hDownloading nvidia_cusolver_cu12-11.6.1.9-py3-none-manylinux2014_x86_64.whl (127.9 MB)\n",
            "\u001b[2K   \u001b[90m━━━━━━━━━━━━━━━━━━━━━━━━━━━━━━━━━━━━━━━━\u001b[0m \u001b[32m127.9/127.9 MB\u001b[0m \u001b[31m7.8 MB/s\u001b[0m eta \u001b[36m0:00:00\u001b[0m\n",
            "\u001b[?25hDownloading nvidia_cusparse_cu12-12.3.1.170-py3-none-manylinux2014_x86_64.whl (207.5 MB)\n",
            "\u001b[2K   \u001b[90m━━━━━━━━━━━━━━━━━━━━━━━━━━━━━━━━━━━━━━━━\u001b[0m \u001b[32m207.5/207.5 MB\u001b[0m \u001b[31m6.3 MB/s\u001b[0m eta \u001b[36m0:00:00\u001b[0m\n",
            "\u001b[?25hDownloading nvidia_nvjitlink_cu12-12.4.127-py3-none-manylinux2014_x86_64.whl (21.1 MB)\n",
            "\u001b[2K   \u001b[90m━━━━━━━━━━━━━━━━━━━━━━━━━━━━━━━━━━━━━━━━\u001b[0m \u001b[32m21.1/21.1 MB\u001b[0m \u001b[31m83.3 MB/s\u001b[0m eta \u001b[36m0:00:00\u001b[0m\n",
            "\u001b[?25hBuilding wheels for collected packages: flash-attn\n",
            "  Building wheel for flash-attn (setup.py) ... \u001b[?25l\u001b[?25hdone\n",
            "  Created wheel for flash-attn: filename=flash_attn-2.7.4.post1-cp311-cp311-linux_x86_64.whl size=187815463 sha256=d944fc7d2f962bce83fc4708c2fc0c21eaf8255962a0b350ae919362a51b7ef2\n",
            "  Stored in directory: /root/.cache/pip/wheels/3d/88/d8/284b89f56af7d5bf366b10d6b8e251ac8a7c7bf3f04203fb4f\n",
            "Successfully built flash-attn\n",
            "Installing collected packages: nvidia-nvjitlink-cu12, nvidia-curand-cu12, nvidia-cufft-cu12, nvidia-cuda-runtime-cu12, nvidia-cuda-nvrtc-cu12, nvidia-cuda-cupti-cu12, nvidia-cublas-cu12, nvidia-cusparse-cu12, nvidia-cudnn-cu12, nvidia-cusolver-cu12, flash-attn, bitsandbytes\n",
            "  Attempting uninstall: nvidia-nvjitlink-cu12\n",
            "    Found existing installation: nvidia-nvjitlink-cu12 12.5.82\n",
            "    Uninstalling nvidia-nvjitlink-cu12-12.5.82:\n",
            "      Successfully uninstalled nvidia-nvjitlink-cu12-12.5.82\n",
            "  Attempting uninstall: nvidia-curand-cu12\n",
            "    Found existing installation: nvidia-curand-cu12 10.3.6.82\n",
            "    Uninstalling nvidia-curand-cu12-10.3.6.82:\n",
            "      Successfully uninstalled nvidia-curand-cu12-10.3.6.82\n",
            "  Attempting uninstall: nvidia-cufft-cu12\n",
            "    Found existing installation: nvidia-cufft-cu12 11.2.3.61\n",
            "    Uninstalling nvidia-cufft-cu12-11.2.3.61:\n",
            "      Successfully uninstalled nvidia-cufft-cu12-11.2.3.61\n",
            "  Attempting uninstall: nvidia-cuda-runtime-cu12\n",
            "    Found existing installation: nvidia-cuda-runtime-cu12 12.5.82\n",
            "    Uninstalling nvidia-cuda-runtime-cu12-12.5.82:\n",
            "      Successfully uninstalled nvidia-cuda-runtime-cu12-12.5.82\n",
            "  Attempting uninstall: nvidia-cuda-nvrtc-cu12\n",
            "    Found existing installation: nvidia-cuda-nvrtc-cu12 12.5.82\n",
            "    Uninstalling nvidia-cuda-nvrtc-cu12-12.5.82:\n",
            "      Successfully uninstalled nvidia-cuda-nvrtc-cu12-12.5.82\n",
            "  Attempting uninstall: nvidia-cuda-cupti-cu12\n",
            "    Found existing installation: nvidia-cuda-cupti-cu12 12.5.82\n",
            "    Uninstalling nvidia-cuda-cupti-cu12-12.5.82:\n",
            "      Successfully uninstalled nvidia-cuda-cupti-cu12-12.5.82\n",
            "  Attempting uninstall: nvidia-cublas-cu12\n",
            "    Found existing installation: nvidia-cublas-cu12 12.5.3.2\n",
            "    Uninstalling nvidia-cublas-cu12-12.5.3.2:\n",
            "      Successfully uninstalled nvidia-cublas-cu12-12.5.3.2\n",
            "  Attempting uninstall: nvidia-cusparse-cu12\n",
            "    Found existing installation: nvidia-cusparse-cu12 12.5.1.3\n",
            "    Uninstalling nvidia-cusparse-cu12-12.5.1.3:\n",
            "      Successfully uninstalled nvidia-cusparse-cu12-12.5.1.3\n",
            "  Attempting uninstall: nvidia-cudnn-cu12\n",
            "    Found existing installation: nvidia-cudnn-cu12 9.3.0.75\n",
            "    Uninstalling nvidia-cudnn-cu12-9.3.0.75:\n",
            "      Successfully uninstalled nvidia-cudnn-cu12-9.3.0.75\n",
            "  Attempting uninstall: nvidia-cusolver-cu12\n",
            "    Found existing installation: nvidia-cusolver-cu12 11.6.3.83\n",
            "    Uninstalling nvidia-cusolver-cu12-11.6.3.83:\n",
            "      Successfully uninstalled nvidia-cusolver-cu12-11.6.3.83\n",
            "Successfully installed bitsandbytes-0.45.3 flash-attn-2.7.4.post1 nvidia-cublas-cu12-12.4.5.8 nvidia-cuda-cupti-cu12-12.4.127 nvidia-cuda-nvrtc-cu12-12.4.127 nvidia-cuda-runtime-cu12-12.4.127 nvidia-cudnn-cu12-9.1.0.70 nvidia-cufft-cu12-11.2.1.3 nvidia-curand-cu12-10.3.5.147 nvidia-cusolver-cu12-11.6.1.9 nvidia-cusparse-cu12-12.3.1.170 nvidia-nvjitlink-cu12-12.4.127\n"
          ]
        }
      ]
    },
    {
      "cell_type": "code",
      "source": [
        "import os\n",
        "import torch\n",
        "from transformers import pipeline, AutoConfig, BitsAndBytesConfig, AutoModelForCausalLM, AutoTokenizer\n",
        "from flask import Flask, request, jsonify, session\n",
        "from langchain.memory import ConversationBufferMemory\n",
        "from langchain.chains import ConversationChain\n",
        "from flask_session import Session\n",
        "import threading\n",
        "\n",
        "app = Flask(__name__)\n",
        "app.config['SECRET_KEY'] = 'your_secret_key'\n",
        "app.config['SESSION_TYPE'] = 'filesystem'\n",
        "Session(app)\n",
        "\n",
        "def initialize_llm(llm_model_path, max_new_tokens=768, max_length=4096):\n",
        "  # device = torch.device('cuda' if torch.cuda.is_available() else 'cpu')\n",
        "\n",
        "  quantization_config = BitsAndBytesConfig(\n",
        "      llm_int8_enable_fp32_cpu_offload=True,\n",
        "      bnb_4bit_quant_type='nf4',\n",
        "      bnb_4bit_use_double_quant=True,\n",
        "      bnb_4bit_compute_dtype=torch.bfloat16,\n",
        "      load_in_4bit=True\n",
        "  )\n",
        "  model = AutoModelForCausalLM.from_pretrained(\n",
        "      llm_model_path,\n",
        "      quantization_config=quantization_config,\n",
        "      trust_remote_code=True\n",
        "  )\n",
        "  tokenizer = AutoTokenizer.from_pretrained(llm_model_path, trust_remote_code=True)\n",
        "\n",
        "  text_generation_pipeline = pipeline(\n",
        "      \"text-generation\",\n",
        "      model=model,\n",
        "      tokenizer=tokenizer,\n",
        "      max_new_tokens=max_new_tokens,\n",
        "      device_map=\"auto\",\n",
        "      do_sample=False,\n",
        "  )\n",
        "\n",
        "  return text_generation_pipeline\n",
        "\n",
        "def create_prompt_template(product_info, question,history_str):\n",
        "  prompt_template = f\"\"\"\n",
        "    <|system|>\n",
        "    You are an intelligent assistant. You have access to structured product information and past conversations.\n",
        "\n",
        "    ### Important Note:\n",
        "    - The following \"Chat History\" is provided for general background only.\n",
        "    - The \"current provided products\" section contains the newest product data.\n",
        "    - **When the user asks about 'current' products, disregard older products** and base your answer solely on the 'current provided products'.\n",
        "    - Only use older product data if the user explicitly requests a comparison or mentions older products.\n",
        "\n",
        "    ### Task:\n",
        "    - Analyze the provided **product information** carefully.\n",
        "    - **Do not re-rank or sort the products; list them in the exact same order they appear in the 'current provided products' JSON array.**\n",
        "    - **When answering questions about items, always mention the item’s name in the answer. Not the No. or the number**\n",
        "    - Extract relevant details (brand, description, price, material, and category).\n",
        "    - **Only answer the given question. Do not generate responses for other questions.**\n",
        "    - **Directly provide the final answer without explaining the process.**\n",
        "    - Make your answer structured and understanbalbe.\n",
        "    - Ensure **numeric accuracy** when performing calculations (e.g., price difference).\n",
        "    - **Do not assume or invent information** that is not provided.\n",
        "\n",
        "    ### Chat History:\n",
        "    {history_str}\n",
        "\n",
        "    ### current provided products:\n",
        "    {product_info}\n",
        "\n",
        "    Please answer the user's query accurately based on the chat history (only if it explicitly references old data) and the current provided products.\n",
        "\n",
        "    <|end|>\n",
        "    <|user|>\n",
        "    question:{question}<|end|>\n",
        "    <|assistant|>\n",
        "    \"\"\"\n",
        "\n",
        "\n",
        "  # prompt_template = f\"\"\"\n",
        "  #   <|system|>\n",
        "  #   You are an intelligent assistant. Based on the provided product information, generate a concise summary of each product. \\\n",
        "  #   Format your response as multiple paragraphs, ensuring that each product's details are clearly described. \\\n",
        "  #   Do not include any information beyond what is given. \\\n",
        "  #   Here are the chat history:\n",
        "  #   {history_str}\n",
        "  #   <|end|>\n",
        "  #   <|user|>\n",
        "  #   Product Information:\n",
        "  #   {product_info}\n",
        "\n",
        "  #   Command: {question}<|end|>\n",
        "  #   <|assistant|>\n",
        "  #   \"\"\"\n",
        "  return prompt_template\n",
        "\n",
        "\n",
        "llm_model_path = \"/content/drive/My Drive/model/Phi3\"\n",
        "llm_pipeline = initialize_llm(llm_model_path)\n",
        "memory = ConversationBufferMemory()\n",
        "\n",
        "@app.route('/ask', methods=['POST'])\n",
        "def ask():\n",
        "  data = request.json\n",
        "  if not data or 'question' not in data:\n",
        "      return jsonify({'error': 'loss some label'}), 400\n",
        "\n",
        "  question = \"Tell me all the details of current provided products.\"\n",
        "  if data['question'] != '':\n",
        "    question = data['question']\n",
        "\n",
        "  web_json = data['web_json']\n",
        "\n",
        "  items_list = \"\"\n",
        "  for i, item in enumerate(web_json):\n",
        "    items_list += f\"Item No.{i+1} is\"\n",
        "    items_list += json.dumps(item, ensure_ascii=False, indent=4)\n",
        "\n",
        "  chat_history = session.get('chat_history', [])\n",
        "  MAX_HISTORY_LENGTH = 10\n",
        "  chat_history = chat_history[-MAX_HISTORY_LENGTH:]\n",
        "  # Update memory with the current chat history\n",
        "  for entry in chat_history:\n",
        "      memory.chat_memory.add_user_message(entry['user'])\n",
        "      memory.chat_memory.add_ai_message(entry['assistant'])\n",
        "  # history = session.get('chat_history', [])\n",
        "  # history_str = \"\\n\".join([f\"User: {msg['user']}\\nAssistant: {msg['assistant']}\" for msg in chat_history])\n",
        "\n",
        "  history_str = memory.load_memory_variables({})['history']\n",
        "  items_list = items_list.replace('\\n', ' ').strip()\n",
        "  prompt = create_prompt_template(items_list, question, history_str)\n",
        "\n",
        "  response = llm_pipeline(prompt)[0]['generated_text']\n",
        "\n",
        "  answer = response.split(\"<|assistant|>\")[-1].strip()\n",
        "  memory.chat_memory.add_user_message(question)\n",
        "  memory.chat_memory.add_ai_message(answer)\n",
        "  session['chat_history'] = memory.load_memory_variables({})['history']\n",
        "  # chat_history.append({'user': question, 'assistant': answer})\n",
        "  # session['chat_history'] = chat_history\n",
        "  return jsonify({'answer': answer, 'full_answer': response})\n",
        "\n",
        "def run_flask():\n",
        "    app.run(host=\"0.0.0.0\", port=2024)\n",
        "\n",
        "if __name__ == \"__main__\":\n",
        "  flask_thread = threading.Thread(target=run_flask)\n",
        "  flask_thread.start()\n",
        "\n"
      ],
      "metadata": {
        "id": "LaBz2Cp5UGEt",
        "colab": {
          "base_uri": "https://localhost:8080/",
          "height": 158,
          "referenced_widgets": [
            "a9ee62d6c16c46edbb05cd728f7eccfa",
            "16b646a4d6f74770aa23b7d02b458460",
            "ceefe58d274a4cf58f2aa2aa983d2b26",
            "79f95e76599844c7ad4d4fff9cf7850a",
            "680cf2ef33be47f9a702df9dd1d9887f",
            "ad97c0e94cb24f59a1465ed474eca96b",
            "a9bb3bbf5607485694401fc5bbe61a57",
            "838795c7518f4eb5a95ee0b9605fd553",
            "6d8a0b8e70bf4aa4a2751e5a3f433d6a",
            "ee91823c9b3b44f7b2ffd255d6f6bc96",
            "814d3b5c48af4d239ab6468b08ded4f3"
          ]
        },
        "outputId": "86856690-0ac0-46c6-cc33-6bc12f9337b3"
      },
      "execution_count": 2,
      "outputs": [
        {
          "output_type": "stream",
          "name": "stderr",
          "text": [
            "`low_cpu_mem_usage` was None, now default to True since model is quantized.\n"
          ]
        },
        {
          "output_type": "display_data",
          "data": {
            "text/plain": [
              "Loading checkpoint shards:   0%|          | 0/2 [00:00<?, ?it/s]"
            ],
            "application/vnd.jupyter.widget-view+json": {
              "version_major": 2,
              "version_minor": 0,
              "model_id": "a9ee62d6c16c46edbb05cd728f7eccfa"
            }
          },
          "metadata": {}
        },
        {
          "output_type": "stream",
          "name": "stderr",
          "text": [
            "Device set to use cuda:0\n"
          ]
        },
        {
          "output_type": "stream",
          "name": "stdout",
          "text": [
            " * Serving Flask app '__main__'\n"
          ]
        },
        {
          "output_type": "stream",
          "name": "stderr",
          "text": [
            "<ipython-input-2-47b140e31434>:99: LangChainDeprecationWarning: Please see the migration guide at: https://python.langchain.com/docs/versions/migrating_memory/\n",
            "  memory = ConversationBufferMemory()\n"
          ]
        },
        {
          "output_type": "stream",
          "name": "stdout",
          "text": [
            " * Debug mode: off\n"
          ]
        }
      ]
    },
    {
      "cell_type": "code",
      "source": [
        "from pyngrok import ngrok\n",
        "\n",
        "ngrok.set_auth_token(\"2tiweC4zxMP7pKL4qISdHDQ4zlq_7FbUe5KJ1NmAsYSyQFVXB\")\n",
        "public_url = ngrok.connect(2024).public_url\n",
        "print(f\"Public URL: {public_url}\")\n"
      ],
      "metadata": {
        "colab": {
          "base_uri": "https://localhost:8080/"
        },
        "id": "7w9UbSuW0yHU",
        "outputId": "2cf4a303-058e-4729-ae96-872da8707228"
      },
      "execution_count": 3,
      "outputs": [
        {
          "output_type": "stream",
          "name": "stdout",
          "text": [
            "Public URL: https://77e5-34-147-126-18.ngrok-free.app\n"
          ]
        }
      ]
    },
    {
      "cell_type": "code",
      "source": [
        "import json\n",
        "import requests\n",
        "import csv\n",
        "def csv_to_json(csv_file_path, json_file_path, max_items=5):\n",
        "    data = []\n",
        "    with open(csv_file_path, newline='', encoding='utf-8') as csv_file:\n",
        "        reader = csv.DictReader(csv_file)\n",
        "        for i, row in enumerate(reader):\n",
        "            if i >= max_items:\n",
        "                break\n",
        "            data.append(row)\n",
        "\n",
        "    with open(json_file_path, 'w', encoding='utf-8') as json_file:\n",
        "        json.dump(data, json_file, ensure_ascii=False, indent=4)\n",
        "\n",
        "    return data\n",
        "\n",
        "csv_file_path = '/content/drive/My Drive/model/Coats.csv'\n",
        "json_file_path = 'file.json'\n",
        "data = csv_to_json(csv_file_path, json_file_path)\n",
        "\n",
        "def ask_response(question,prompt_input):\n",
        "    url = \"https://77e5-34-147-126-18.ngrok-free.app/ask\"\n",
        "\n",
        "    payload = json.dumps({\n",
        "    \"question\": question,\n",
        "    \"web_json\": prompt_input\n",
        "    })\n",
        "    headers = {\n",
        "    'Content-Type': 'application/json'\n",
        "    }\n",
        "    response = requests.request(\"POST\", url, headers=headers, data=payload)\n",
        "    return response\n",
        "\n",
        "res = ask_response('',data)\n",
        "print(res.text)"
      ],
      "metadata": {
        "colab": {
          "base_uri": "https://localhost:8080/"
        },
        "collapsed": true,
        "id": "T92_AJUJn-AL",
        "outputId": "f59a6383-9b29-4328-b906-dafbb84fd1d8"
      },
      "execution_count": 4,
      "outputs": [
        {
          "output_type": "stream",
          "name": "stderr",
          "text": [
            "The `seen_tokens` attribute is deprecated and will be removed in v4.41. Use the `cache_position` model input instead.\n",
            "`get_max_cache()` is deprecated for all Cache classes. Use `get_max_cache_shape()` instead. Calling `get_max_cache()` will raise error from v4.48\n",
            "WARNING:transformers_modules.Phi3.modeling_phi3:You are not running the flash-attention implementation, expect numerical differences.\n",
            "INFO:werkzeug:127.0.0.1 - - [02/Mar/2025 15:16:06] \"POST /ask HTTP/1.1\" 200 -\n"
          ]
        },
        {
          "output_type": "stream",
          "name": "stdout",
          "text": [
            "{\"answer\":\"Item No.1: Amazon Essentials Babies, Toddlers, and Boys' Heavyweight Hooded Puffer Jacket, Brand: Amazon Essentials, Price: $36.80, Material: Leather, Silk, Category: Clothing, Subcategory: Men, Subsubcategory: Coats, Image URL: https://m.media-amazon.com/images/I/71qAWNGtbUL._AC_UL320_.jpg\\n\\nItem No.2: DKNY Boys Jacket \\u2013 Midweight Insulated Quilted Outerwear Parka Puffer Coat \\u2013 Water Resistant Boys Winter Hooded Jacket (8-20), Brand: DKNY, Price: $54.99, Material: Silk, Linen, Category: Clothing, Subcategory: Men, Subsubcategory: Coats, Image URL: https://m.media\\u02c8amazon.com/images/I/61C16rwqEaL._AC_UL320_.jpg\\n\\nItem No.3: Vinmin ValentinA Latest Boys Thicken Fleece Hooded Jacket Warm Quilted Coat Outdoor Cool Cute Fashion for Winter Autumn Spring, Brand: Vinmin, Price: $37.99, Material: Linen, Synthetic, Category: Clothing, Subcategory: Men, Subsubcategory: Coats, Image URL: https://m.media-amazon.com/images/I/611CQ5Rr4HL._AC_UL320_.jpg\\n\\nItem No.4: Columbia Boys' Steens Mountain II Fleece, Brand: Columbia, Price: $28.00, Material: Cotton, Synthetic, Category: Clothing, Subcategory: Men, Subsubcategory: Coats, Image URL: https://m.media-amazon.com/images/I/71+Y12z3BQS._AC_UL320_.jpg\\n\\nItem No.5: The Children's Place Boys' Big Kid Medium Weight Puffer Jacket, Wind, Water-Resistant Seasonal, Brand: The Children's Place, Price: $35.97, Material: Linen, Wool, Category: Clothing, Subcategory: Men, Subsubcategory: Coats, Image URL: https://m.media-amazon.com/images/I/61nsOCj2zwL._AC_UL320_.jpg\",\"full_answer\":\"\\n    <|system|>\\n    You are an intelligent assistant. You have access to structured product information and past conversations.\\n\\n    ### Important Note:\\n    - The following \\\"Chat History\\\" is provided for general background only.\\n    - The \\\"current provided products\\\" section contains the newest product data.\\n    - **When the user asks about 'current' products, disregard older products** and base your answer solely on the 'current provided products'.\\n    - Only use older product data if the user explicitly requests a comparison or mentions older products.\\n\\n    ### Task:\\n    - Analyze the provided **product information** carefully.\\n    - **Do not re-rank or sort the products; list them in the exact same order they appear in the 'current provided products' JSON array.**\\n    - **When answering questions about items, always mention the product\\u2019s name in the answer. Not the No. or the number**\\n    - Extract relevant details (brand, description, price, material, and category).\\n    - **Only answer the given question. Do not generate responses for other questions.**\\n    - **Directly provide the final answer without explaining the process.**\\n    - Ensure **numeric accuracy** when performing calculations (e.g., price difference).\\n    - **Do not assume or invent information** that is not provided.\\n\\n    ### Chat History:\\n    \\n\\n    ### current provided products:\\n    Item No.1 is{     \\\"Brand\\\": \\\"Amazon Essentials\\\",     \\\"Short description\\\": \\\"Amazon Essentials Babies, Toddlers, and Boys' Heavyweight Hooded Puffer Jacket\\\",     \\\"Price\\\": \\\"$36.80\\\",     \\\"material\\\": \\\"Leather, Silk\\\",     \\\"Image URL\\\": \\\"https://m.media-amazon.com/images/I/71qAWNGtbUL._AC_UL320_.jpg\\\",     \\\"category\\\": \\\"Clothing\\\",     \\\"subcategory\\\": \\\"Men\\\",     \\\"subsubcategory\\\": \\\"Coats\\\" }Item No.2 is{     \\\"Brand\\\": \\\"DKNY\\\",     \\\"Short description\\\": \\\"DKNY Boys Jacket \\u2013 Midweight Insulated Quilted Outerwear Parka Puffer Coat \\u2013 Water Resistant Boys Winter Hooded Jacket (8-20)\\\",     \\\"Price\\\": \\\"$54.99\\\",     \\\"material\\\": \\\"Silk, Linen\\\",     \\\"Image URL\\\": \\\"https://m.media-amazon.com/images/I/61C16rwqEaL._AC_UL320_.jpg\\\",     \\\"category\\\": \\\"Clothing\\\",     \\\"subcategory\\\": \\\"Men\\\",     \\\"subsubcategory\\\": \\\"Coats\\\" }Item No.3 is{     \\\"Brand\\\": \\\"Vinmin\\\",     \\\"Short description\\\": \\\"ValentinA Latest Boys Thicken Fleece Hooded Jacket Warm Quilted Coat Outdoor Cool Cute Fashion for Winter Autumn Spring\\\",     \\\"Price\\\": \\\"$37.99\\\",     \\\"material\\\": \\\"Linen, Synthetic\\\",     \\\"Image URL\\\": \\\"https://m.media-amazon.com/images/I/611CQ5Rr4HL._AC_UL320_.jpg\\\",     \\\"category\\\": \\\"Clothing\\\",     \\\"subcategory\\\": \\\"Men\\\",     \\\"subsubcategory\\\": \\\"Coats\\\" }Item No.4 is{     \\\"Brand\\\": \\\"Columbia\\\",     \\\"Short description\\\": \\\"Columbia Boys' Steens Mountain Ii Fleece\\\",     \\\"Price\\\": \\\"$28.00\\\",     \\\"material\\\": \\\"Cotton, Synthetic\\\",     \\\"Image URL\\\": \\\"https://m.media-amazon.com/images/I/71+Y12z3BQS._AC_UL320_.jpg\\\",     \\\"category\\\": \\\"Clothing\\\",     \\\"subcategory\\\": \\\"Men\\\",     \\\"subsubcategory\\\": \\\"Coats\\\" }Item No.5 is{     \\\"Brand\\\": \\\"The Children's Place\\\",     \\\"Short description\\\": \\\"The Children's Place Boys' Big Kid Medium Weight Puffer Jacket, Wind, Water-Resistant Seasonal\\\",     \\\"Price\\\": \\\"$35.97\\\",     \\\"material\\\": \\\"Linen, Wool\\\",     \\\"Image URL\\\": \\\"https://m.media-amazon.com/images/I/61nsOCj2zwL._AC_UL320_.jpg\\\",     \\\"category\\\": \\\"Clothing\\\",     \\\"subcategory\\\": \\\"Men\\\",     \\\"subsubcategory\\\": \\\"Coats\\\" }\\n\\n    Please answer the user's query accurately based on the chat history (only if it explicitly references old data) and the current provided products.\\n\\n    <|end|>\\n    <|user|>\\n    question:Tell me all the details of current provided products.<|end|>\\n    <|assistant|>\\n     Item No.1: Amazon Essentials Babies, Toddlers, and Boys' Heavyweight Hooded Puffer Jacket, Brand: Amazon Essentials, Price: $36.80, Material: Leather, Silk, Category: Clothing, Subcategory: Men, Subsubcategory: Coats, Image URL: https://m.media-amazon.com/images/I/71qAWNGtbUL._AC_UL320_.jpg\\n\\nItem No.2: DKNY Boys Jacket \\u2013 Midweight Insulated Quilted Outerwear Parka Puffer Coat \\u2013 Water Resistant Boys Winter Hooded Jacket (8-20), Brand: DKNY, Price: $54.99, Material: Silk, Linen, Category: Clothing, Subcategory: Men, Subsubcategory: Coats, Image URL: https://m.media\\u02c8amazon.com/images/I/61C16rwqEaL._AC_UL320_.jpg\\n\\nItem No.3: Vinmin ValentinA Latest Boys Thicken Fleece Hooded Jacket Warm Quilted Coat Outdoor Cool Cute Fashion for Winter Autumn Spring, Brand: Vinmin, Price: $37.99, Material: Linen, Synthetic, Category: Clothing, Subcategory: Men, Subsubcategory: Coats, Image URL: https://m.media-amazon.com/images/I/611CQ5Rr4HL._AC_UL320_.jpg\\n\\nItem No.4: Columbia Boys' Steens Mountain II Fleece, Brand: Columbia, Price: $28.00, Material: Cotton, Synthetic, Category: Clothing, Subcategory: Men, Subsubcategory: Coats, Image URL: https://m.media-amazon.com/images/I/71+Y12z3BQS._AC_UL320_.jpg\\n\\nItem No.5: The Children's Place Boys' Big Kid Medium Weight Puffer Jacket, Wind, Water-Resistant Seasonal, Brand: The Children's Place, Price: $35.97, Material: Linen, Wool, Category: Clothing, Subcategory: Men, Subsubcategory: Coats, Image URL: https://m.media-amazon.com/images/I/61nsOCj2zwL._AC_UL320_.jpg\"}\n",
            "\n"
          ]
        }
      ]
    },
    {
      "cell_type": "code",
      "source": [
        "data1 ="
      ],
      "metadata": {
        "colab": {
          "base_uri": "https://localhost:8080/"
        },
        "id": "9GhMnGLmdL5d",
        "outputId": "76df30e0-b7a9-44fe-bd8b-f00691e7dad8"
      },
      "execution_count": 8,
      "outputs": [
        {
          "output_type": "execute_result",
          "data": {
            "text/plain": [
              "[{'Brand': 'Amazon Essentials',\n",
              "  'Short description': \"Amazon Essentials Babies, Toddlers, and Boys' Heavyweight Hooded Puffer Jacket\",\n",
              "  'Price': '$36.80',\n",
              "  'material': 'Leather, Silk',\n",
              "  'Image URL': 'https://m.media-amazon.com/images/I/71qAWNGtbUL._AC_UL320_.jpg',\n",
              "  'category': 'Clothing',\n",
              "  'subcategory': 'Men',\n",
              "  'subsubcategory': 'Coats'},\n",
              " {'Brand': 'DKNY',\n",
              "  'Short description': 'DKNY Boys Jacket – Midweight Insulated Quilted Outerwear Parka Puffer Coat – Water Resistant Boys Winter Hooded Jacket (8-20)',\n",
              "  'Price': '$54.99',\n",
              "  'material': 'Silk, Linen',\n",
              "  'Image URL': 'https://m.media-amazon.com/images/I/61C16rwqEaL._AC_UL320_.jpg',\n",
              "  'category': 'Clothing',\n",
              "  'subcategory': 'Men',\n",
              "  'subsubcategory': 'Coats'},\n",
              " {'Brand': 'Vinmin',\n",
              "  'Short description': 'ValentinA Latest Boys Thicken Fleece Hooded Jacket Warm Quilted Coat Outdoor Cool Cute Fashion for Winter Autumn Spring',\n",
              "  'Price': '$37.99',\n",
              "  'material': 'Linen, Synthetic',\n",
              "  'Image URL': 'https://m.media-amazon.com/images/I/611CQ5Rr4HL._AC_UL320_.jpg',\n",
              "  'category': 'Clothing',\n",
              "  'subcategory': 'Men',\n",
              "  'subsubcategory': 'Coats'},\n",
              " {'Brand': 'Columbia',\n",
              "  'Short description': \"Columbia Boys' Steens Mountain Ii Fleece\",\n",
              "  'Price': '$28.00',\n",
              "  'material': 'Cotton, Synthetic',\n",
              "  'Image URL': 'https://m.media-amazon.com/images/I/71+Y12z3BQS._AC_UL320_.jpg',\n",
              "  'category': 'Clothing',\n",
              "  'subcategory': 'Men',\n",
              "  'subsubcategory': 'Coats'},\n",
              " {'Brand': \"The Children's Place\",\n",
              "  'Short description': \"The Children's Place Boys' Big Kid Medium Weight Puffer Jacket, Wind, Water-Resistant Seasonal\",\n",
              "  'Price': '$35.97',\n",
              "  'material': 'Linen, Wool',\n",
              "  'Image URL': 'https://m.media-amazon.com/images/I/61nsOCj2zwL._AC_UL320_.jpg',\n",
              "  'category': 'Clothing',\n",
              "  'subcategory': 'Men',\n",
              "  'subsubcategory': 'Coats'}]"
            ]
          },
          "metadata": {},
          "execution_count": 8
        }
      ]
    },
    {
      "cell_type": "code",
      "source": [
        "print(res.json()['answer'])"
      ],
      "metadata": {
        "colab": {
          "base_uri": "https://localhost:8080/"
        },
        "collapsed": true,
        "id": "rHqrsNvrsii-",
        "outputId": "ff9ade20-1c0d-4302-cf7e-8ccc6e6cf966"
      },
      "execution_count": 5,
      "outputs": [
        {
          "output_type": "stream",
          "name": "stdout",
          "text": [
            "Item No.1: Amazon Essentials Babies, Toddlers, and Boys' Heavyweight Hooded Puffer Jacket, Brand: Amazon Essentials, Price: $36.80, Material: Leather, Silk, Category: Clothing, Subcategory: Men, Subsubcategory: Coats, Image URL: https://m.media-amazon.com/images/I/71qAWNGtbUL._AC_UL320_.jpg\n",
            "\n",
            "Item No.2: DKNY Boys Jacket – Midweight Insulated Quilted Outerwear Parka Puffer Coat – Water Resistant Boys Winter Hooded Jacket (8-20), Brand: DKNY, Price: $54.99, Material: Silk, Linen, Category: Clothing, Subcategory: Men, Subsubcategory: Coats, Image URL: https://m.mediaˈamazon.com/images/I/61C16rwqEaL._AC_UL320_.jpg\n",
            "\n",
            "Item No.3: Vinmin ValentinA Latest Boys Thicken Fleece Hooded Jacket Warm Quilted Coat Outdoor Cool Cute Fashion for Winter Autumn Spring, Brand: Vinmin, Price: $37.99, Material: Linen, Synthetic, Category: Clothing, Subcategory: Men, Subsubcategory: Coats, Image URL: https://m.media-amazon.com/images/I/611CQ5Rr4HL._AC_UL320_.jpg\n",
            "\n",
            "Item No.4: Columbia Boys' Steens Mountain II Fleece, Brand: Columbia, Price: $28.00, Material: Cotton, Synthetic, Category: Clothing, Subcategory: Men, Subsubcategory: Coats, Image URL: https://m.media-amazon.com/images/I/71+Y12z3BQS._AC_UL320_.jpg\n",
            "\n",
            "Item No.5: The Children's Place Boys' Big Kid Medium Weight Puffer Jacket, Wind, Water-Resistant Seasonal, Brand: The Children's Place, Price: $35.97, Material: Linen, Wool, Category: Clothing, Subcategory: Men, Subsubcategory: Coats, Image URL: https://m.media-amazon.com/images/I/61nsOCj2zwL._AC_UL320_.jpg\n"
          ]
        }
      ]
    },
    {
      "cell_type": "code",
      "source": [
        "res2 = ask_response('What is the cheapest one?',data)"
      ],
      "metadata": {
        "colab": {
          "base_uri": "https://localhost:8080/"
        },
        "id": "iaaVtNjxtt6n",
        "outputId": "389b1a89-716f-446a-8361-efad156bac2c"
      },
      "execution_count": 6,
      "outputs": [
        {
          "output_type": "stream",
          "name": "stderr",
          "text": [
            "INFO:werkzeug:127.0.0.1 - - [02/Mar/2025 15:16:28] \"POST /ask HTTP/1.1\" 200 -\n"
          ]
        }
      ]
    },
    {
      "cell_type": "code",
      "source": [
        "# @title\n",
        "res2.json()['answer']"
      ],
      "metadata": {
        "colab": {
          "base_uri": "https://localhost:8080/",
          "height": 35
        },
        "id": "a9vHf_4tXmDp",
        "outputId": "3e6ef381-5781-4efb-b628-a46998ef3f64"
      },
      "execution_count": 7,
      "outputs": [
        {
          "output_type": "execute_result",
          "data": {
            "text/plain": [
              "'Item No.4 is the cheapest, with a price of $28.00.'"
            ],
            "application/vnd.google.colaboratory.intrinsic+json": {
              "type": "string"
            }
          },
          "metadata": {},
          "execution_count": 7
        }
      ]
    },
    {
      "cell_type": "code",
      "source": [
        "res3 = ask_response('What is the most expensive one?',data)"
      ],
      "metadata": {
        "colab": {
          "base_uri": "https://localhost:8080/"
        },
        "id": "lykpJiuDisO2",
        "outputId": "f6c87b05-9690-4093-bd60-dfe1d016739d"
      },
      "execution_count": null,
      "outputs": [
        {
          "output_type": "stream",
          "name": "stderr",
          "text": [
            "INFO:werkzeug:127.0.0.1 - - [01/Mar/2025 23:27:05] \"POST /ask HTTP/1.1\" 200 -\n"
          ]
        }
      ]
    },
    {
      "cell_type": "code",
      "source": [
        "print(res3.json()['answer'])"
      ],
      "metadata": {
        "colab": {
          "base_uri": "https://localhost:8080/"
        },
        "id": "RayfPwOEjDeh",
        "outputId": "c9ed3fd5-ced0-4a95-87b4-b51767612caf"
      },
      "execution_count": null,
      "outputs": [
        {
          "output_type": "stream",
          "name": "stdout",
          "text": [
            "The most expensive product is the DKNY Boys Jacket – Midweight Insulated Quilted Outerwear Parka Puffer Coat – Water Resistant Boys Winter Hooded Jacket (8-20), priced at $54.99.\n"
          ]
        }
      ]
    },
    {
      "cell_type": "code",
      "source": [
        "res4 = ask_response('What is the price difference the cheapest one and the most expensive one?',data)"
      ],
      "metadata": {
        "colab": {
          "base_uri": "https://localhost:8080/"
        },
        "id": "kBk3uVZdjHZO",
        "outputId": "cc57efe4-e5bb-42f6-8788-2ea6b3a83fa0"
      },
      "execution_count": null,
      "outputs": [
        {
          "output_type": "stream",
          "name": "stderr",
          "text": [
            "INFO:werkzeug:127.0.0.1 - - [01/Mar/2025 23:27:16] \"POST /ask HTTP/1.1\" 200 -\n"
          ]
        }
      ]
    },
    {
      "cell_type": "code",
      "source": [
        "print(res4.json()['answer'])"
      ],
      "metadata": {
        "colab": {
          "base_uri": "https://localhost:8080/"
        },
        "id": "igBcL05jjVLu",
        "outputId": "4debb02c-bc6e-430f-c994-749e39f438d3"
      },
      "execution_count": null,
      "outputs": [
        {
          "output_type": "stream",
          "name": "stdout",
          "text": [
            "The price difference between the cheapest and the most expensive product is $28.00 - $54.99 = -$26.99.\n"
          ]
        }
      ]
    },
    {
      "cell_type": "code",
      "source": [
        "import csv\n",
        "import json\n",
        "\n",
        "def csv_to_json(csv_file_path, json_file_path, start=5, max_items=5):\n",
        "    data = []\n",
        "    with open(csv_file_path, newline='', encoding='utf-8') as csv_file:\n",
        "        reader = csv.DictReader(csv_file)\n",
        "        for i, row in enumerate(reader):\n",
        "            if i < start:  # 跳过前 `start` 行\n",
        "                continue\n",
        "            if i >= start + max_items:  # 只获取 `max_items` 行\n",
        "                break\n",
        "            data.append(row)\n",
        "\n",
        "    with open(json_file_path, 'w', encoding='utf-8') as json_file:\n",
        "        json.dump(data, json_file, ensure_ascii=False, indent=4)\n",
        "\n",
        "    return data\n",
        "\n",
        "# 读取第 5-10 行\n",
        "csv_file_path = '/content/drive/My Drive/model/Coats.csv'\n",
        "json_file_path = 'file.json'\n",
        "data2 = csv_to_json(csv_file_path, json_file_path, start=5, max_items=5)\n",
        "\n"
      ],
      "metadata": {
        "collapsed": true,
        "id": "lyW5h8RPsKeT"
      },
      "execution_count": null,
      "outputs": []
    },
    {
      "cell_type": "code",
      "source": [
        "res5 = ask_response('',data2)\n",
        "print(res.text)"
      ],
      "metadata": {
        "colab": {
          "base_uri": "https://localhost:8080/"
        },
        "id": "wLmgPrRJzWRa",
        "outputId": "d5c480c3-2557-44d2-c2da-42581612f843"
      },
      "execution_count": null,
      "outputs": [
        {
          "output_type": "stream",
          "name": "stderr",
          "text": [
            "INFO:werkzeug:127.0.0.1 - - [02/Mar/2025 00:18:20] \"POST /ask HTTP/1.1\" 200 -\n"
          ]
        },
        {
          "output_type": "stream",
          "name": "stdout",
          "text": [
            "{\"answer\":\"- Amazon Essentials Babies, Toddlers, and Boys' Heavyweight Hooded Puffer Jacket: Brand - Amazon Essentials, Price - $36.80, Material - Leather, Silk, Category - Clothing, Subcategory - Men, Subsubcategory - Coats.\\n\\n- DKNY Boys Jacket \\u2013 Midweight Insulated Quilted Outerwear Parka Puffer Coat \\u2013 Water Resistant Boys Winter Hooded Jacket (8-20): Brand - DKNY, Price - $54.99, Material - Silk, Linen, Category - Clothing, Subcategory - Men, Subsubcategory - Coats.\\n\\n- Vinmin ValentinA Latest Boys Thicken Fleece Hooded Jacket Warm Quilted Coat Outdoor Cool Cute Fashion for Winter Autumn Spring: Brand - Vinmin, Price - $37.99, Material - Linen, Synthetic, Category - Clothing, Subcategory - Men, Subsubcategory - Coats.\\n\\n- Columbia Boys' Steens Mountain Ii Fleece: Brand - Columbia, Price - $28.00, Material - Cotton, Synthetic, Category - Clothing, Subcategory - Men, Subsubcategory - Coats.\\n\\n- The Children's Place Boys' Big Kid Medium Weight Puffer Jacket, Wind, Water-Resistant Seasonal: Brand - The Children's Place, Price - $35.97, Material - Linen, Wool, Category - Clothing, Subcategory - Men, Subsubcategory - Coats.\",\"full_answer\":\"\\n    <|system|>\\n    You are an intelligent assistant. You have access to structured product information and past conversations.\\n\\n    ### Important Note:\\n    - The following \\\"Chat History\\\" is provided for general background only.\\n    - The \\\"current provided products\\\" section contains the newest product data.\\n    - **When the user asks about 'current' products, disregard older products** and base your answer solely on the 'current provided products'.\\n    - Only use older product data if the user explicitly requests a comparison or mentions older products.\\n\\n    ### Task:\\n    - Analyze the provided **product information** carefully.\\n    - **Do not re-rank or sort the products; list them in the exact same order they appear in the 'current provided products' JSON array.**\\n    - Extract relevant details (brand, description, price, material, and category).\\n    - **Only answer the given question. Do not generate responses for other questions.**\\n    - **Directly provide the final answer without explaining the process.**\\n    - Ensure **numeric accuracy** when performing calculations (e.g., price difference).\\n    - **Do not assume or invent information** that is not provided.\\n\\n    ### Chat History:\\n    \\n\\n    ### current provided products:\\n    [\\n    {\\n        \\\"Brand\\\": \\\"Amazon Essentials\\\",\\n        \\\"Short description\\\": \\\"Amazon Essentials Babies, Toddlers, and Boys' Heavyweight Hooded Puffer Jacket\\\",\\n        \\\"Price\\\": \\\"$36.80\\\",\\n        \\\"material\\\": \\\"Leather, Silk\\\",\\n        \\\"Image URL\\\": \\\"https://m.media-amazon.com/images/I/71qAWNGtbUL._AC_UL320_.jpg\\\",\\n        \\\"category\\\": \\\"Clothing\\\",\\n        \\\"subcategory\\\": \\\"Men\\\",\\n        \\\"subsubcategory\\\": \\\"Coats\\\"\\n    },\\n    {\\n        \\\"Brand\\\": \\\"DKNY\\\",\\n        \\\"Short description\\\": \\\"DKNY Boys Jacket \\u2013 Midweight Insulated Quilted Outerwear Parka Puffer Coat \\u2013 Water Resistant Boys Winter Hooded Jacket (8-20)\\\",\\n        \\\"Price\\\": \\\"$54.99\\\",\\n        \\\"material\\\": \\\"Silk, Linen\\\",\\n        \\\"Image URL\\\": \\\"https://m.media-amazon.com/images/I/61C16rwqEaL._AC_UL320_.jpg\\\",\\n        \\\"category\\\": \\\"Clothing\\\",\\n        \\\"subcategory\\\": \\\"Men\\\",\\n        \\\"subsubcategory\\\": \\\"Coats\\\"\\n    },\\n    {\\n        \\\"Brand\\\": \\\"Vinmin\\\",\\n        \\\"Short description\\\": \\\"ValentinA Latest Boys Thicken Fleece Hooded Jacket Warm Quilted Coat Outdoor Cool Cute Fashion for Winter Autumn Spring\\\",\\n        \\\"Price\\\": \\\"$37.99\\\",\\n        \\\"material\\\": \\\"Linen, Synthetic\\\",\\n        \\\"Image URL\\\": \\\"https://m.media-amazon.com/images/I/611CQ5Rr4HL._AC_UL320_.jpg\\\",\\n        \\\"category\\\": \\\"Clothing\\\",\\n        \\\"subcategory\\\": \\\"Men\\\",\\n        \\\"subsubcategory\\\": \\\"Coats\\\"\\n    },\\n    {\\n        \\\"Brand\\\": \\\"Columbia\\\",\\n        \\\"Short description\\\": \\\"Columbia Boys' Steens Mountain Ii Fleece\\\",\\n        \\\"Price\\\": \\\"$28.00\\\",\\n        \\\"material\\\": \\\"Cotton, Synthetic\\\",\\n        \\\"Image URL\\\": \\\"https://m.media-amazon.com/images/I/71+Y12z3BQS._AC_UL320_.jpg\\\",\\n        \\\"category\\\": \\\"Clothing\\\",\\n        \\\"subcategory\\\": \\\"Men\\\",\\n        \\\"subsubcategory\\\": \\\"Coats\\\"\\n    },\\n    {\\n        \\\"Brand\\\": \\\"The Children's Place\\\",\\n        \\\"Short description\\\": \\\"The Children's Place Boys' Big Kid Medium Weight Puffer Jacket, Wind, Water-Resistant Seasonal\\\",\\n        \\\"Price\\\": \\\"$35.97\\\",\\n        \\\"material\\\": \\\"Linen, Wool\\\",\\n        \\\"Image URL\\\": \\\"https://m.media-amazon.com/images/I/61nsOCj2zwL._AC_UL320_.jpg\\\",\\n        \\\"category\\\": \\\"Clothing\\\",\\n        \\\"subcategory\\\": \\\"Men\\\",\\n        \\\"subsubcategory\\\": \\\"Coats\\\"\\n    }\\n]\\n\\n    Please answer the user's query accurately based on the chat history (only if it explicitly references old data) and the current provided products.\\n\\n    <|end|>\\n    <|user|>\\n    question:Tell me all the details of current provided products.<|end|>\\n    <|assistant|>\\n     - Amazon Essentials Babies, Toddlers, and Boys' Heavyweight Hooded Puffer Jacket: Brand - Amazon Essentials, Price - $36.80, Material - Leather, Silk, Category - Clothing, Subcategory - Men, Subsubcategory - Coats.\\n\\n- DKNY Boys Jacket \\u2013 Midweight Insulated Quilted Outerwear Parka Puffer Coat \\u2013 Water Resistant Boys Winter Hooded Jacket (8-20): Brand - DKNY, Price - $54.99, Material - Silk, Linen, Category - Clothing, Subcategory - Men, Subsubcategory - Coats.\\n\\n- Vinmin ValentinA Latest Boys Thicken Fleece Hooded Jacket Warm Quilted Coat Outdoor Cool Cute Fashion for Winter Autumn Spring: Brand - Vinmin, Price - $37.99, Material - Linen, Synthetic, Category - Clothing, Subcategory - Men, Subsubcategory - Coats.\\n\\n- Columbia Boys' Steens Mountain Ii Fleece: Brand - Columbia, Price - $28.00, Material - Cotton, Synthetic, Category - Clothing, Subcategory - Men, Subsubcategory - Coats.\\n\\n- The Children's Place Boys' Big Kid Medium Weight Puffer Jacket, Wind, Water-Resistant Seasonal: Brand - The Children's Place, Price - $35.97, Material - Linen, Wool, Category - Clothing, Subcategory - Men, Subsubcategory - Coats.\"}\n",
            "\n"
          ]
        }
      ]
    },
    {
      "cell_type": "code",
      "source": [
        "prompt_input_2"
      ],
      "metadata": {
        "colab": {
          "base_uri": "https://localhost:8080/",
          "height": 199
        },
        "id": "_GIgvCL5_RqD",
        "outputId": "368de645-d263-4689-e0a7-fedc99db91d1"
      },
      "execution_count": null,
      "outputs": [
        {
          "output_type": "execute_result",
          "data": {
            "text/plain": [
              "'Item No.1 is{\\n    \"Brand\": \"WULFUL\",\\n    \"Short description\": \"WULFUL Kids Boy\\'s Winter Coat Detachable Hat Puffer Windbreaker Warm Cotton Jacket Parka Down Outdoor Coats\",\\n    \"Price\": \"$36.99\",\\n    \"material\": \"Wool, Leather\",\\n    \"Image URL\": \"https://m.media-amazon.com/images/I/71MhQD4xmVL._AC_UL320_.jpg\",\\n    \"category\": \"Clothing\",\\n    \"subcategory\": \"Men\",\\n    \"subsubcategory\": \"Coats\"\\n}Item No.2 is{\\n    \"Brand\": \"DKNY\",\\n    \"Short description\": \"DKNY Boys\\' Winter Jacket - Heavyweight Sherpa Lined Bubble Puffer Coat with Convenient Pockets - Jacket for Boys (Size: 4-20)\",\\n    \"Price\": \"$34.99\",\\n    \"material\": \"Denim, Cotton\",\\n    \"Image URL\": \"https://m.media-amazon.com/images/I/71y2VItEqSL._AC_UL320_.jpg\",\\n    \"category\": \"Clothing\",\\n    \"subcategory\": \"Men\",\\n    \"subsubcategory\": \"Coats\"\\n}Item No.3 is{\\n    \"Brand\": \"Eddie Bauer\",\\n    \"Short description\": \"Eddie Bauer Boys\\' Jacket - CirrusLite Weather Resistant Down Coat for Boys - Insulated Quilted Bubble Puffer (3-20)\",\\n    \"Price\": \"$44.99\",\\n    \"material\": \"Linen, Wool\",\\n    \"Image URL\": \"https://m.media-amazon.com/images/I/71CUKql-jwL._AC_UL320_.jpg\",\\n    \"category\": \"Clothing\",\\n    \"subcategory\": \"Men\",\\n    \"subsubcategory\": \"Coats\"\\n}Item No.4 is{\\n    \"Brand\": \"Amazon Essentials\",\\n    \"Short description\": \"Amazon Essentials Boys and Toddlers\\' Lightweight Water-Resistant Packable Hooded Puffer Jacket\",\\n    \"Price\": \"$27.10\",\\n    \"material\": \"Polyester, Synthetic\",\\n    \"Image URL\": \"https://m.media-amazon.com/images/I/81fVi+0jooL._AC_UL320_.jpg\",\\n    \"category\": \"Clothing\",\\n    \"subcategory\": \"Men\",\\n    \"subsubcategory\": \"Coats\"\\n}Item No.5 is{\\n    \"Brand\": \"The Children\\'s Place\",\\n    \"Short description\": \"The Children\\'s Place Boys\\' Uniform Windbreaker Jacket\",\\n    \"Price\": \"$23.97\",\\n    \"material\": \"Silk, Polyester\",\\n    \"Image URL\": \"https://m.media-amazon.com/images/I/71Sfx5z6kdL._AC_UL320_.jpg\",\\n    \"category\": \"Clothing\",\\n    \"subcategory\": \"Men\",\\n    \"subsubcategory\": \"Coats\"\\n}'"
            ],
            "application/vnd.google.colaboratory.intrinsic+json": {
              "type": "string"
            }
          },
          "metadata": {},
          "execution_count": 37
        }
      ]
    },
    {
      "cell_type": "code",
      "source": [
        "data"
      ],
      "metadata": {
        "colab": {
          "base_uri": "https://localhost:8080/"
        },
        "id": "MENqfpknzkHy",
        "outputId": "2c79ace7-d512-48e4-c980-cdbb9f07f249"
      },
      "execution_count": null,
      "outputs": [
        {
          "output_type": "execute_result",
          "data": {
            "text/plain": [
              "[{'Brand': 'WULFUL',\n",
              "  'Short description': \"WULFUL Kids Boy's Winter Coat Detachable Hat Puffer Windbreaker Warm Cotton Jacket Parka Down Outdoor Coats\",\n",
              "  'Price': '$36.99',\n",
              "  'material': 'Wool, Leather',\n",
              "  'Image URL': 'https://m.media-amazon.com/images/I/71MhQD4xmVL._AC_UL320_.jpg',\n",
              "  'category': 'Clothing',\n",
              "  'subcategory': 'Men',\n",
              "  'subsubcategory': 'Coats'},\n",
              " {'Brand': 'DKNY',\n",
              "  'Short description': \"DKNY Boys' Winter Jacket - Heavyweight Sherpa Lined Bubble Puffer Coat with Convenient Pockets - Jacket for Boys (Size: 4-20)\",\n",
              "  'Price': '$34.99',\n",
              "  'material': 'Denim, Cotton',\n",
              "  'Image URL': 'https://m.media-amazon.com/images/I/71y2VItEqSL._AC_UL320_.jpg',\n",
              "  'category': 'Clothing',\n",
              "  'subcategory': 'Men',\n",
              "  'subsubcategory': 'Coats'},\n",
              " {'Brand': 'Eddie Bauer',\n",
              "  'Short description': \"Eddie Bauer Boys' Jacket - CirrusLite Weather Resistant Down Coat for Boys - Insulated Quilted Bubble Puffer (3-20)\",\n",
              "  'Price': '$44.99',\n",
              "  'material': 'Linen, Wool',\n",
              "  'Image URL': 'https://m.media-amazon.com/images/I/71CUKql-jwL._AC_UL320_.jpg',\n",
              "  'category': 'Clothing',\n",
              "  'subcategory': 'Men',\n",
              "  'subsubcategory': 'Coats'},\n",
              " {'Brand': 'Amazon Essentials',\n",
              "  'Short description': \"Amazon Essentials Boys and Toddlers' Lightweight Water-Resistant Packable Hooded Puffer Jacket\",\n",
              "  'Price': '$27.10',\n",
              "  'material': 'Polyester, Synthetic',\n",
              "  'Image URL': 'https://m.media-amazon.com/images/I/81fVi+0jooL._AC_UL320_.jpg',\n",
              "  'category': 'Clothing',\n",
              "  'subcategory': 'Men',\n",
              "  'subsubcategory': 'Coats'},\n",
              " {'Brand': \"The Children's Place\",\n",
              "  'Short description': \"The Children's Place Boys' Uniform Windbreaker Jacket\",\n",
              "  'Price': '$23.97',\n",
              "  'material': 'Silk, Polyester',\n",
              "  'Image URL': 'https://m.media-amazon.com/images/I/71Sfx5z6kdL._AC_UL320_.jpg',\n",
              "  'category': 'Clothing',\n",
              "  'subcategory': 'Men',\n",
              "  'subsubcategory': 'Coats'}]"
            ]
          },
          "metadata": {},
          "execution_count": 38
        }
      ]
    },
    {
      "cell_type": "code",
      "source": [
        "res7 = ask_response('What is the first product?',prompt_input_2)"
      ],
      "metadata": {
        "colab": {
          "base_uri": "https://localhost:8080/"
        },
        "id": "K3V8SAHkDQ9P",
        "outputId": "d190be07-9024-4dd3-d30b-377bc90edf75"
      },
      "execution_count": null,
      "outputs": [
        {
          "output_type": "stream",
          "name": "stderr",
          "text": [
            "INFO:werkzeug:127.0.0.1 - - [02/Mar/2025 00:20:05] \"POST /ask HTTP/1.1\" 200 -\n"
          ]
        }
      ]
    },
    {
      "cell_type": "code",
      "source": [
        "res7.json()['answer']"
      ],
      "metadata": {
        "colab": {
          "base_uri": "https://localhost:8080/",
          "height": 35
        },
        "id": "XnbExt3ADitI",
        "outputId": "f26d9098-82a9-4855-ca5f-741663da63e5"
      },
      "execution_count": null,
      "outputs": [
        {
          "output_type": "execute_result",
          "data": {
            "text/plain": [
              "'The first product is the \"WULFUL Kids Boy\\'s Winter Coat Detachable Hat Puffer Windbreaker Warm Cotton Jacket Parka Outdoor Coats\" by WULFUL.'"
            ],
            "application/vnd.google.colaboratory.intrinsic+json": {
              "type": "string"
            }
          },
          "metadata": {},
          "execution_count": 31
        }
      ]
    },
    {
      "cell_type": "code",
      "source": [
        "res8 = ask_response('What is the previous first product?',prompt_input_2)"
      ],
      "metadata": {
        "colab": {
          "base_uri": "https://localhost:8080/"
        },
        "id": "obXxcbE1OZcH",
        "outputId": "25d85109-bc5b-4bad-d879-bac525d752a3"
      },
      "execution_count": null,
      "outputs": [
        {
          "output_type": "stream",
          "name": "stderr",
          "text": [
            "INFO:werkzeug:127.0.0.1 - - [02/Mar/2025 00:20:42] \"POST /ask HTTP/1.1\" 200 -\n"
          ]
        }
      ]
    },
    {
      "cell_type": "code",
      "source": [
        "res8.json()['answer']"
      ],
      "metadata": {
        "colab": {
          "base_uri": "https://localhost:8080/",
          "height": 35
        },
        "id": "c3clv1w6Ociq",
        "outputId": "f1ea253a-acf6-4208-f175-7627100ee681"
      },
      "execution_count": null,
      "outputs": [
        {
          "output_type": "execute_result",
          "data": {
            "text/plain": [
              "'The previous first product was the \"Amazon Essentials Boys and Toddlers\\' Lightweight Water-Resistant Packable Hooded Puffer Jacket\" by Amazon Essentials.'"
            ],
            "application/vnd.google.colaboratory.intrinsic+json": {
              "type": "string"
            }
          },
          "metadata": {},
          "execution_count": 33
        }
      ]
    }
  ]
}